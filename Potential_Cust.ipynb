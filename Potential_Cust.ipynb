{
  "nbformat": 4,
  "nbformat_minor": 0,
  "metadata": {
    "colab": {
      "name": "Capstone_remake.ipynb",
      "provenance": [],
      "collapsed_sections": []
    },
    "kernelspec": {
      "name": "python3",
      "display_name": "Python 3"
    },
    "language_info": {
      "name": "python"
    }
  },
  "cells": [
    {
      "cell_type": "markdown",
      "source": [
        "**DATASET ON POTENTIAL CUSTOMER**\n",
        "\n",
        "The dataset is about customer purchasing history, this analysis is to ID potential customer.\n",
        "\n",
        "\n"
      ],
      "metadata": {
        "id": "iUbVtDZ4TKMy"
      }
    },
    {
      "cell_type": "code",
      "execution_count": null,
      "metadata": {
        "id": "RUEhVEkOSiid"
      },
      "outputs": [],
      "source": [
        "# Wrangling and EDA with Python\n",
        "import pandas as pd\n",
        "import numpy as np\n",
        "import matplotlib.pyplot as plt\n",
        "import seaborn as sns\n",
        "\n",
        "import warnings\n",
        "warnings.filterwarnings(\"ignore\")\n",
        "\n",
        "from statistics import mode\n",
        "from scipy.special import binom\n",
        "from scipy.stats import iqr\n",
        "\n",
        "from statsmodels.graphics.gofplots import qqplot\n",
        "\n",
        "# SQL data query \n",
        "import csv\n",
        "import sqlite3\n",
        "from sqlite3 import Error"
      ]
    },
    {
      "cell_type": "code",
      "source": [
        "#reading data\n",
        "df = pd.read_csv('data.csv')\n",
        "df.head(5)"
      ],
      "metadata": {
        "colab": {
          "base_uri": "https://localhost:8080/",
          "height": 299
        },
        "id": "L53GJzeRTpeA",
        "outputId": "dc67db64-69d7-4ee4-f25a-c7f237b7d5e9"
      },
      "execution_count": null,
      "outputs": [
        {
          "output_type": "execute_result",
          "data": {
            "text/plain": [
              "   Potential_Customer    C_ID Cust_Last_Purchase  Pur_3_years  Pur_5_years  \\\n",
              "0                   1    9946             $5.00             2           17   \n",
              "1                   1   87939            $30.00             1            7   \n",
              "2                   0   88003                NaN            5           12   \n",
              "3                   1  188721            $20.00             1           11   \n",
              "4                   1   88056             $5.00             3           15   \n",
              "\n",
              "   Pur_3_years_Indirect  Pur_5_years_Indirect Pur_latest Pur_3_years_Avg  \\\n",
              "0                     2                     4     $0.00           $7.50    \n",
              "1                     0                     3    $25.00          $25.00    \n",
              "2                     3                     5    $15.00          $15.00    \n",
              "3                     0                     3    $20.00          $20.00    \n",
              "4                     2                     7     $3.00           $4.33    \n",
              "\n",
              "  Pur_5_years_Avg  ... Ad_Res_5_Year  Ad_Res_Ind_1_Year  Ad_Res_Ind_3_Year  \\\n",
              "0          $7.76   ...            73                  3                 12   \n",
              "1         $13.00   ...            55                  6                  6   \n",
              "2         $11.25   ...            53                  6                 17   \n",
              "3         $12.45   ...            71                  8                  8   \n",
              "4          $3.80   ...            63                  6                 12   \n",
              "\n",
              "   Ad_Res_Ind_5_Year  Status_Cust  Status_Latest_Ad   Age  Gender  Cust_Prop  \\\n",
              "0                 16            A                 0  71.0       F          H   \n",
              "1                 22            A                 1   7.0       M          U   \n",
              "2                 22            S                 1  79.0       F          U   \n",
              "3                 33            A                 0  73.0       F          U   \n",
              "4                 24            S                 1  68.0       F          H   \n",
              "\n",
              "  Cust_Ann_Income  \n",
              "0     $65,957.00   \n",
              "1          $0.00   \n",
              "2          $0.00   \n",
              "3     $76,293.00   \n",
              "4    $113,663.00   \n",
              "\n",
              "[5 rows x 25 columns]"
            ],
            "text/html": [
              "\n",
              "  <div id=\"df-ce91aa32-9553-4a04-8c3f-f3bfbd94998d\">\n",
              "    <div class=\"colab-df-container\">\n",
              "      <div>\n",
              "<style scoped>\n",
              "    .dataframe tbody tr th:only-of-type {\n",
              "        vertical-align: middle;\n",
              "    }\n",
              "\n",
              "    .dataframe tbody tr th {\n",
              "        vertical-align: top;\n",
              "    }\n",
              "\n",
              "    .dataframe thead th {\n",
              "        text-align: right;\n",
              "    }\n",
              "</style>\n",
              "<table border=\"1\" class=\"dataframe\">\n",
              "  <thead>\n",
              "    <tr style=\"text-align: right;\">\n",
              "      <th></th>\n",
              "      <th>Potential_Customer</th>\n",
              "      <th>C_ID</th>\n",
              "      <th>Cust_Last_Purchase</th>\n",
              "      <th>Pur_3_years</th>\n",
              "      <th>Pur_5_years</th>\n",
              "      <th>Pur_3_years_Indirect</th>\n",
              "      <th>Pur_5_years_Indirect</th>\n",
              "      <th>Pur_latest</th>\n",
              "      <th>Pur_3_years_Avg</th>\n",
              "      <th>Pur_5_years_Avg</th>\n",
              "      <th>...</th>\n",
              "      <th>Ad_Res_5_Year</th>\n",
              "      <th>Ad_Res_Ind_1_Year</th>\n",
              "      <th>Ad_Res_Ind_3_Year</th>\n",
              "      <th>Ad_Res_Ind_5_Year</th>\n",
              "      <th>Status_Cust</th>\n",
              "      <th>Status_Latest_Ad</th>\n",
              "      <th>Age</th>\n",
              "      <th>Gender</th>\n",
              "      <th>Cust_Prop</th>\n",
              "      <th>Cust_Ann_Income</th>\n",
              "    </tr>\n",
              "  </thead>\n",
              "  <tbody>\n",
              "    <tr>\n",
              "      <th>0</th>\n",
              "      <td>1</td>\n",
              "      <td>9946</td>\n",
              "      <td>$5.00</td>\n",
              "      <td>2</td>\n",
              "      <td>17</td>\n",
              "      <td>2</td>\n",
              "      <td>4</td>\n",
              "      <td>$0.00</td>\n",
              "      <td>$7.50</td>\n",
              "      <td>$7.76</td>\n",
              "      <td>...</td>\n",
              "      <td>73</td>\n",
              "      <td>3</td>\n",
              "      <td>12</td>\n",
              "      <td>16</td>\n",
              "      <td>A</td>\n",
              "      <td>0</td>\n",
              "      <td>71.0</td>\n",
              "      <td>F</td>\n",
              "      <td>H</td>\n",
              "      <td>$65,957.00</td>\n",
              "    </tr>\n",
              "    <tr>\n",
              "      <th>1</th>\n",
              "      <td>1</td>\n",
              "      <td>87939</td>\n",
              "      <td>$30.00</td>\n",
              "      <td>1</td>\n",
              "      <td>7</td>\n",
              "      <td>0</td>\n",
              "      <td>3</td>\n",
              "      <td>$25.00</td>\n",
              "      <td>$25.00</td>\n",
              "      <td>$13.00</td>\n",
              "      <td>...</td>\n",
              "      <td>55</td>\n",
              "      <td>6</td>\n",
              "      <td>6</td>\n",
              "      <td>22</td>\n",
              "      <td>A</td>\n",
              "      <td>1</td>\n",
              "      <td>7.0</td>\n",
              "      <td>M</td>\n",
              "      <td>U</td>\n",
              "      <td>$0.00</td>\n",
              "    </tr>\n",
              "    <tr>\n",
              "      <th>2</th>\n",
              "      <td>0</td>\n",
              "      <td>88003</td>\n",
              "      <td>NaN</td>\n",
              "      <td>5</td>\n",
              "      <td>12</td>\n",
              "      <td>3</td>\n",
              "      <td>5</td>\n",
              "      <td>$15.00</td>\n",
              "      <td>$15.00</td>\n",
              "      <td>$11.25</td>\n",
              "      <td>...</td>\n",
              "      <td>53</td>\n",
              "      <td>6</td>\n",
              "      <td>17</td>\n",
              "      <td>22</td>\n",
              "      <td>S</td>\n",
              "      <td>1</td>\n",
              "      <td>79.0</td>\n",
              "      <td>F</td>\n",
              "      <td>U</td>\n",
              "      <td>$0.00</td>\n",
              "    </tr>\n",
              "    <tr>\n",
              "      <th>3</th>\n",
              "      <td>1</td>\n",
              "      <td>188721</td>\n",
              "      <td>$20.00</td>\n",
              "      <td>1</td>\n",
              "      <td>11</td>\n",
              "      <td>0</td>\n",
              "      <td>3</td>\n",
              "      <td>$20.00</td>\n",
              "      <td>$20.00</td>\n",
              "      <td>$12.45</td>\n",
              "      <td>...</td>\n",
              "      <td>71</td>\n",
              "      <td>8</td>\n",
              "      <td>8</td>\n",
              "      <td>33</td>\n",
              "      <td>A</td>\n",
              "      <td>0</td>\n",
              "      <td>73.0</td>\n",
              "      <td>F</td>\n",
              "      <td>U</td>\n",
              "      <td>$76,293.00</td>\n",
              "    </tr>\n",
              "    <tr>\n",
              "      <th>4</th>\n",
              "      <td>1</td>\n",
              "      <td>88056</td>\n",
              "      <td>$5.00</td>\n",
              "      <td>3</td>\n",
              "      <td>15</td>\n",
              "      <td>2</td>\n",
              "      <td>7</td>\n",
              "      <td>$3.00</td>\n",
              "      <td>$4.33</td>\n",
              "      <td>$3.80</td>\n",
              "      <td>...</td>\n",
              "      <td>63</td>\n",
              "      <td>6</td>\n",
              "      <td>12</td>\n",
              "      <td>24</td>\n",
              "      <td>S</td>\n",
              "      <td>1</td>\n",
              "      <td>68.0</td>\n",
              "      <td>F</td>\n",
              "      <td>H</td>\n",
              "      <td>$113,663.00</td>\n",
              "    </tr>\n",
              "  </tbody>\n",
              "</table>\n",
              "<p>5 rows × 25 columns</p>\n",
              "</div>\n",
              "      <button class=\"colab-df-convert\" onclick=\"convertToInteractive('df-ce91aa32-9553-4a04-8c3f-f3bfbd94998d')\"\n",
              "              title=\"Convert this dataframe to an interactive table.\"\n",
              "              style=\"display:none;\">\n",
              "        \n",
              "  <svg xmlns=\"http://www.w3.org/2000/svg\" height=\"24px\"viewBox=\"0 0 24 24\"\n",
              "       width=\"24px\">\n",
              "    <path d=\"M0 0h24v24H0V0z\" fill=\"none\"/>\n",
              "    <path d=\"M18.56 5.44l.94 2.06.94-2.06 2.06-.94-2.06-.94-.94-2.06-.94 2.06-2.06.94zm-11 1L8.5 8.5l.94-2.06 2.06-.94-2.06-.94L8.5 2.5l-.94 2.06-2.06.94zm10 10l.94 2.06.94-2.06 2.06-.94-2.06-.94-.94-2.06-.94 2.06-2.06.94z\"/><path d=\"M17.41 7.96l-1.37-1.37c-.4-.4-.92-.59-1.43-.59-.52 0-1.04.2-1.43.59L10.3 9.45l-7.72 7.72c-.78.78-.78 2.05 0 2.83L4 21.41c.39.39.9.59 1.41.59.51 0 1.02-.2 1.41-.59l7.78-7.78 2.81-2.81c.8-.78.8-2.07 0-2.86zM5.41 20L4 18.59l7.72-7.72 1.47 1.35L5.41 20z\"/>\n",
              "  </svg>\n",
              "      </button>\n",
              "      \n",
              "  <style>\n",
              "    .colab-df-container {\n",
              "      display:flex;\n",
              "      flex-wrap:wrap;\n",
              "      gap: 12px;\n",
              "    }\n",
              "\n",
              "    .colab-df-convert {\n",
              "      background-color: #E8F0FE;\n",
              "      border: none;\n",
              "      border-radius: 50%;\n",
              "      cursor: pointer;\n",
              "      display: none;\n",
              "      fill: #1967D2;\n",
              "      height: 32px;\n",
              "      padding: 0 0 0 0;\n",
              "      width: 32px;\n",
              "    }\n",
              "\n",
              "    .colab-df-convert:hover {\n",
              "      background-color: #E2EBFA;\n",
              "      box-shadow: 0px 1px 2px rgba(60, 64, 67, 0.3), 0px 1px 3px 1px rgba(60, 64, 67, 0.15);\n",
              "      fill: #174EA6;\n",
              "    }\n",
              "\n",
              "    [theme=dark] .colab-df-convert {\n",
              "      background-color: #3B4455;\n",
              "      fill: #D2E3FC;\n",
              "    }\n",
              "\n",
              "    [theme=dark] .colab-df-convert:hover {\n",
              "      background-color: #434B5C;\n",
              "      box-shadow: 0px 1px 3px 1px rgba(0, 0, 0, 0.15);\n",
              "      filter: drop-shadow(0px 1px 2px rgba(0, 0, 0, 0.3));\n",
              "      fill: #FFFFFF;\n",
              "    }\n",
              "  </style>\n",
              "\n",
              "      <script>\n",
              "        const buttonEl =\n",
              "          document.querySelector('#df-ce91aa32-9553-4a04-8c3f-f3bfbd94998d button.colab-df-convert');\n",
              "        buttonEl.style.display =\n",
              "          google.colab.kernel.accessAllowed ? 'block' : 'none';\n",
              "\n",
              "        async function convertToInteractive(key) {\n",
              "          const element = document.querySelector('#df-ce91aa32-9553-4a04-8c3f-f3bfbd94998d');\n",
              "          const dataTable =\n",
              "            await google.colab.kernel.invokeFunction('convertToInteractive',\n",
              "                                                     [key], {});\n",
              "          if (!dataTable) return;\n",
              "\n",
              "          const docLinkHtml = 'Like what you see? Visit the ' +\n",
              "            '<a target=\"_blank\" href=https://colab.research.google.com/notebooks/data_table.ipynb>data table notebook</a>'\n",
              "            + ' to learn more about interactive tables.';\n",
              "          element.innerHTML = '';\n",
              "          dataTable['output_type'] = 'display_data';\n",
              "          await google.colab.output.renderOutput(dataTable, element);\n",
              "          const docLink = document.createElement('div');\n",
              "          docLink.innerHTML = docLinkHtml;\n",
              "          element.appendChild(docLink);\n",
              "        }\n",
              "      </script>\n",
              "    </div>\n",
              "  </div>\n",
              "  "
            ]
          },
          "metadata": {},
          "execution_count": 7
        }
      ]
    },
    {
      "cell_type": "code",
      "source": [
        "df.describe().T"
      ],
      "metadata": {
        "colab": {
          "base_uri": "https://localhost:8080/",
          "height": 551
        },
        "id": "Kpzo4DJwUEcF",
        "outputId": "61fc2984-2b15-4602-cb5e-d2b84ea8cf83"
      },
      "execution_count": null,
      "outputs": [
        {
          "output_type": "execute_result",
          "data": {
            "text/plain": [
              "                       count          mean           std   min      25%  \\\n",
              "Potential_Customer    4469.0      0.480868      0.499690   0.0      0.0   \n",
              "C_ID                  4469.0  73837.719848  36156.968605  12.0  52713.0   \n",
              "Pur_3_years           4469.0      3.297158      2.207326   0.0      2.0   \n",
              "Pur_5_years           4469.0     11.006042      9.459082   1.0      4.0   \n",
              "Pur_3_years_Indirect  4469.0      1.897516      1.629178   0.0      1.0   \n",
              "Pur_5_years_Indirect  4469.0      5.867756      4.939174   0.0      2.0   \n",
              "InAct_Last            4469.0     17.923697      4.130671   4.0     16.0   \n",
              "InAct_First           4469.0     73.605952     38.094688  15.0     40.0   \n",
              "Ad_Res_1_year         4469.0     13.070038      4.991064   3.0     11.0   \n",
              "Ad_Res_3_Year         4469.0     29.631237      7.787209   5.0     26.0   \n",
              "Ad_Res_5_Year         4469.0     49.683822     23.056042   7.0     31.0   \n",
              "Ad_Res_Ind_1_Year     4469.0      5.406355      1.361155   1.0      5.0   \n",
              "Ad_Res_Ind_3_Year     4469.0     12.045872      4.586081   2.0      7.0   \n",
              "Ad_Res_Ind_5_Year     4469.0     19.496979      8.580510   3.0     13.0   \n",
              "Status_Latest_Ad      4469.0      0.562094      0.496185   0.0      0.0   \n",
              "Age                   3510.0     59.020228     16.902682   0.0     47.0   \n",
              "\n",
              "                          50%      75%       max  \n",
              "Potential_Customer        0.0      1.0       1.0  \n",
              "C_ID                  75790.0  93705.0  191672.0  \n",
              "Pur_3_years               3.0      4.0      15.0  \n",
              "Pur_5_years               9.0     15.0      91.0  \n",
              "Pur_3_years_Indirect      2.0      3.0       9.0  \n",
              "Pur_5_years_Indirect      4.0      9.0      41.0  \n",
              "InAct_Last               18.0     20.0      27.0  \n",
              "InAct_First              74.0    111.0     260.0  \n",
              "Ad_Res_1_year            12.0     13.0      49.0  \n",
              "Ad_Res_3_Year            31.0     34.0      71.0  \n",
              "Ad_Res_5_Year            51.0     66.0     157.0  \n",
              "Ad_Res_Ind_1_Year         6.0      6.0      17.0  \n",
              "Ad_Res_Ind_3_Year        13.0     16.0      28.0  \n",
              "Ad_Res_Ind_5_Year        20.0     27.0      56.0  \n",
              "Status_Latest_Ad          1.0      1.0       1.0  \n",
              "Age                      60.0     73.0      87.0  "
            ],
            "text/html": [
              "\n",
              "  <div id=\"df-37ecebc2-32c0-467b-855f-6b55732302cf\">\n",
              "    <div class=\"colab-df-container\">\n",
              "      <div>\n",
              "<style scoped>\n",
              "    .dataframe tbody tr th:only-of-type {\n",
              "        vertical-align: middle;\n",
              "    }\n",
              "\n",
              "    .dataframe tbody tr th {\n",
              "        vertical-align: top;\n",
              "    }\n",
              "\n",
              "    .dataframe thead th {\n",
              "        text-align: right;\n",
              "    }\n",
              "</style>\n",
              "<table border=\"1\" class=\"dataframe\">\n",
              "  <thead>\n",
              "    <tr style=\"text-align: right;\">\n",
              "      <th></th>\n",
              "      <th>count</th>\n",
              "      <th>mean</th>\n",
              "      <th>std</th>\n",
              "      <th>min</th>\n",
              "      <th>25%</th>\n",
              "      <th>50%</th>\n",
              "      <th>75%</th>\n",
              "      <th>max</th>\n",
              "    </tr>\n",
              "  </thead>\n",
              "  <tbody>\n",
              "    <tr>\n",
              "      <th>Potential_Customer</th>\n",
              "      <td>4469.0</td>\n",
              "      <td>0.480868</td>\n",
              "      <td>0.499690</td>\n",
              "      <td>0.0</td>\n",
              "      <td>0.0</td>\n",
              "      <td>0.0</td>\n",
              "      <td>1.0</td>\n",
              "      <td>1.0</td>\n",
              "    </tr>\n",
              "    <tr>\n",
              "      <th>C_ID</th>\n",
              "      <td>4469.0</td>\n",
              "      <td>73837.719848</td>\n",
              "      <td>36156.968605</td>\n",
              "      <td>12.0</td>\n",
              "      <td>52713.0</td>\n",
              "      <td>75790.0</td>\n",
              "      <td>93705.0</td>\n",
              "      <td>191672.0</td>\n",
              "    </tr>\n",
              "    <tr>\n",
              "      <th>Pur_3_years</th>\n",
              "      <td>4469.0</td>\n",
              "      <td>3.297158</td>\n",
              "      <td>2.207326</td>\n",
              "      <td>0.0</td>\n",
              "      <td>2.0</td>\n",
              "      <td>3.0</td>\n",
              "      <td>4.0</td>\n",
              "      <td>15.0</td>\n",
              "    </tr>\n",
              "    <tr>\n",
              "      <th>Pur_5_years</th>\n",
              "      <td>4469.0</td>\n",
              "      <td>11.006042</td>\n",
              "      <td>9.459082</td>\n",
              "      <td>1.0</td>\n",
              "      <td>4.0</td>\n",
              "      <td>9.0</td>\n",
              "      <td>15.0</td>\n",
              "      <td>91.0</td>\n",
              "    </tr>\n",
              "    <tr>\n",
              "      <th>Pur_3_years_Indirect</th>\n",
              "      <td>4469.0</td>\n",
              "      <td>1.897516</td>\n",
              "      <td>1.629178</td>\n",
              "      <td>0.0</td>\n",
              "      <td>1.0</td>\n",
              "      <td>2.0</td>\n",
              "      <td>3.0</td>\n",
              "      <td>9.0</td>\n",
              "    </tr>\n",
              "    <tr>\n",
              "      <th>Pur_5_years_Indirect</th>\n",
              "      <td>4469.0</td>\n",
              "      <td>5.867756</td>\n",
              "      <td>4.939174</td>\n",
              "      <td>0.0</td>\n",
              "      <td>2.0</td>\n",
              "      <td>4.0</td>\n",
              "      <td>9.0</td>\n",
              "      <td>41.0</td>\n",
              "    </tr>\n",
              "    <tr>\n",
              "      <th>InAct_Last</th>\n",
              "      <td>4469.0</td>\n",
              "      <td>17.923697</td>\n",
              "      <td>4.130671</td>\n",
              "      <td>4.0</td>\n",
              "      <td>16.0</td>\n",
              "      <td>18.0</td>\n",
              "      <td>20.0</td>\n",
              "      <td>27.0</td>\n",
              "    </tr>\n",
              "    <tr>\n",
              "      <th>InAct_First</th>\n",
              "      <td>4469.0</td>\n",
              "      <td>73.605952</td>\n",
              "      <td>38.094688</td>\n",
              "      <td>15.0</td>\n",
              "      <td>40.0</td>\n",
              "      <td>74.0</td>\n",
              "      <td>111.0</td>\n",
              "      <td>260.0</td>\n",
              "    </tr>\n",
              "    <tr>\n",
              "      <th>Ad_Res_1_year</th>\n",
              "      <td>4469.0</td>\n",
              "      <td>13.070038</td>\n",
              "      <td>4.991064</td>\n",
              "      <td>3.0</td>\n",
              "      <td>11.0</td>\n",
              "      <td>12.0</td>\n",
              "      <td>13.0</td>\n",
              "      <td>49.0</td>\n",
              "    </tr>\n",
              "    <tr>\n",
              "      <th>Ad_Res_3_Year</th>\n",
              "      <td>4469.0</td>\n",
              "      <td>29.631237</td>\n",
              "      <td>7.787209</td>\n",
              "      <td>5.0</td>\n",
              "      <td>26.0</td>\n",
              "      <td>31.0</td>\n",
              "      <td>34.0</td>\n",
              "      <td>71.0</td>\n",
              "    </tr>\n",
              "    <tr>\n",
              "      <th>Ad_Res_5_Year</th>\n",
              "      <td>4469.0</td>\n",
              "      <td>49.683822</td>\n",
              "      <td>23.056042</td>\n",
              "      <td>7.0</td>\n",
              "      <td>31.0</td>\n",
              "      <td>51.0</td>\n",
              "      <td>66.0</td>\n",
              "      <td>157.0</td>\n",
              "    </tr>\n",
              "    <tr>\n",
              "      <th>Ad_Res_Ind_1_Year</th>\n",
              "      <td>4469.0</td>\n",
              "      <td>5.406355</td>\n",
              "      <td>1.361155</td>\n",
              "      <td>1.0</td>\n",
              "      <td>5.0</td>\n",
              "      <td>6.0</td>\n",
              "      <td>6.0</td>\n",
              "      <td>17.0</td>\n",
              "    </tr>\n",
              "    <tr>\n",
              "      <th>Ad_Res_Ind_3_Year</th>\n",
              "      <td>4469.0</td>\n",
              "      <td>12.045872</td>\n",
              "      <td>4.586081</td>\n",
              "      <td>2.0</td>\n",
              "      <td>7.0</td>\n",
              "      <td>13.0</td>\n",
              "      <td>16.0</td>\n",
              "      <td>28.0</td>\n",
              "    </tr>\n",
              "    <tr>\n",
              "      <th>Ad_Res_Ind_5_Year</th>\n",
              "      <td>4469.0</td>\n",
              "      <td>19.496979</td>\n",
              "      <td>8.580510</td>\n",
              "      <td>3.0</td>\n",
              "      <td>13.0</td>\n",
              "      <td>20.0</td>\n",
              "      <td>27.0</td>\n",
              "      <td>56.0</td>\n",
              "    </tr>\n",
              "    <tr>\n",
              "      <th>Status_Latest_Ad</th>\n",
              "      <td>4469.0</td>\n",
              "      <td>0.562094</td>\n",
              "      <td>0.496185</td>\n",
              "      <td>0.0</td>\n",
              "      <td>0.0</td>\n",
              "      <td>1.0</td>\n",
              "      <td>1.0</td>\n",
              "      <td>1.0</td>\n",
              "    </tr>\n",
              "    <tr>\n",
              "      <th>Age</th>\n",
              "      <td>3510.0</td>\n",
              "      <td>59.020228</td>\n",
              "      <td>16.902682</td>\n",
              "      <td>0.0</td>\n",
              "      <td>47.0</td>\n",
              "      <td>60.0</td>\n",
              "      <td>73.0</td>\n",
              "      <td>87.0</td>\n",
              "    </tr>\n",
              "  </tbody>\n",
              "</table>\n",
              "</div>\n",
              "      <button class=\"colab-df-convert\" onclick=\"convertToInteractive('df-37ecebc2-32c0-467b-855f-6b55732302cf')\"\n",
              "              title=\"Convert this dataframe to an interactive table.\"\n",
              "              style=\"display:none;\">\n",
              "        \n",
              "  <svg xmlns=\"http://www.w3.org/2000/svg\" height=\"24px\"viewBox=\"0 0 24 24\"\n",
              "       width=\"24px\">\n",
              "    <path d=\"M0 0h24v24H0V0z\" fill=\"none\"/>\n",
              "    <path d=\"M18.56 5.44l.94 2.06.94-2.06 2.06-.94-2.06-.94-.94-2.06-.94 2.06-2.06.94zm-11 1L8.5 8.5l.94-2.06 2.06-.94-2.06-.94L8.5 2.5l-.94 2.06-2.06.94zm10 10l.94 2.06.94-2.06 2.06-.94-2.06-.94-.94-2.06-.94 2.06-2.06.94z\"/><path d=\"M17.41 7.96l-1.37-1.37c-.4-.4-.92-.59-1.43-.59-.52 0-1.04.2-1.43.59L10.3 9.45l-7.72 7.72c-.78.78-.78 2.05 0 2.83L4 21.41c.39.39.9.59 1.41.59.51 0 1.02-.2 1.41-.59l7.78-7.78 2.81-2.81c.8-.78.8-2.07 0-2.86zM5.41 20L4 18.59l7.72-7.72 1.47 1.35L5.41 20z\"/>\n",
              "  </svg>\n",
              "      </button>\n",
              "      \n",
              "  <style>\n",
              "    .colab-df-container {\n",
              "      display:flex;\n",
              "      flex-wrap:wrap;\n",
              "      gap: 12px;\n",
              "    }\n",
              "\n",
              "    .colab-df-convert {\n",
              "      background-color: #E8F0FE;\n",
              "      border: none;\n",
              "      border-radius: 50%;\n",
              "      cursor: pointer;\n",
              "      display: none;\n",
              "      fill: #1967D2;\n",
              "      height: 32px;\n",
              "      padding: 0 0 0 0;\n",
              "      width: 32px;\n",
              "    }\n",
              "\n",
              "    .colab-df-convert:hover {\n",
              "      background-color: #E2EBFA;\n",
              "      box-shadow: 0px 1px 2px rgba(60, 64, 67, 0.3), 0px 1px 3px 1px rgba(60, 64, 67, 0.15);\n",
              "      fill: #174EA6;\n",
              "    }\n",
              "\n",
              "    [theme=dark] .colab-df-convert {\n",
              "      background-color: #3B4455;\n",
              "      fill: #D2E3FC;\n",
              "    }\n",
              "\n",
              "    [theme=dark] .colab-df-convert:hover {\n",
              "      background-color: #434B5C;\n",
              "      box-shadow: 0px 1px 3px 1px rgba(0, 0, 0, 0.15);\n",
              "      filter: drop-shadow(0px 1px 2px rgba(0, 0, 0, 0.3));\n",
              "      fill: #FFFFFF;\n",
              "    }\n",
              "  </style>\n",
              "\n",
              "      <script>\n",
              "        const buttonEl =\n",
              "          document.querySelector('#df-37ecebc2-32c0-467b-855f-6b55732302cf button.colab-df-convert');\n",
              "        buttonEl.style.display =\n",
              "          google.colab.kernel.accessAllowed ? 'block' : 'none';\n",
              "\n",
              "        async function convertToInteractive(key) {\n",
              "          const element = document.querySelector('#df-37ecebc2-32c0-467b-855f-6b55732302cf');\n",
              "          const dataTable =\n",
              "            await google.colab.kernel.invokeFunction('convertToInteractive',\n",
              "                                                     [key], {});\n",
              "          if (!dataTable) return;\n",
              "\n",
              "          const docLinkHtml = 'Like what you see? Visit the ' +\n",
              "            '<a target=\"_blank\" href=https://colab.research.google.com/notebooks/data_table.ipynb>data table notebook</a>'\n",
              "            + ' to learn more about interactive tables.';\n",
              "          element.innerHTML = '';\n",
              "          dataTable['output_type'] = 'display_data';\n",
              "          await google.colab.output.renderOutput(dataTable, element);\n",
              "          const docLink = document.createElement('div');\n",
              "          docLink.innerHTML = docLinkHtml;\n",
              "          element.appendChild(docLink);\n",
              "        }\n",
              "      </script>\n",
              "    </div>\n",
              "  </div>\n",
              "  "
            ]
          },
          "metadata": {},
          "execution_count": 5
        }
      ]
    },
    {
      "cell_type": "code",
      "source": [
        "df.info() "
      ],
      "metadata": {
        "colab": {
          "base_uri": "https://localhost:8080/"
        },
        "id": "TUGTRaSVUEaH",
        "outputId": "591fedc8-085d-407d-e910-f55c6471b696"
      },
      "execution_count": null,
      "outputs": [
        {
          "output_type": "stream",
          "name": "stdout",
          "text": [
            "<class 'pandas.core.frame.DataFrame'>\n",
            "RangeIndex: 4469 entries, 0 to 4468\n",
            "Data columns (total 25 columns):\n",
            " #   Column                    Non-Null Count  Dtype  \n",
            "---  ------                    --------------  -----  \n",
            " 0   Potential_Customer        4469 non-null   int64  \n",
            " 1   C_ID                      4469 non-null   int64  \n",
            " 2   Cust_Last_Purchase        2149 non-null   object \n",
            " 3   Pur_3_years               4469 non-null   int64  \n",
            " 4   Pur_5_years               4469 non-null   int64  \n",
            " 5   Pur_3_years_Indirect      4469 non-null   int64  \n",
            " 6   Pur_5_years_Indirect      4469 non-null   int64  \n",
            " 7   Pur_latest                4469 non-null   object \n",
            " 8   Pur_3_years_Avg           4469 non-null   object \n",
            " 9   Pur_5_years_Avg           4469 non-null   object \n",
            " 10  Pur_3_years_Avg_Indirect  3642 non-null   object \n",
            " 11  InAct_Last                4469 non-null   int64  \n",
            " 12  InAct_First               4469 non-null   int64  \n",
            " 13  Ad_Res_1_year             4469 non-null   int64  \n",
            " 14  Ad_Res_3_Year             4469 non-null   int64  \n",
            " 15  Ad_Res_5_Year             4469 non-null   int64  \n",
            " 16  Ad_Res_Ind_1_Year         4469 non-null   int64  \n",
            " 17  Ad_Res_Ind_3_Year         4469 non-null   int64  \n",
            " 18  Ad_Res_Ind_5_Year         4469 non-null   int64  \n",
            " 19  Status_Cust               4469 non-null   object \n",
            " 20  Status_Latest_Ad          4469 non-null   int64  \n",
            " 21  Age                       3510 non-null   float64\n",
            " 22  Gender                    4469 non-null   object \n",
            " 23  Cust_Prop                 4469 non-null   object \n",
            " 24  Cust_Ann_Income           4469 non-null   object \n",
            "dtypes: float64(1), int64(15), object(9)\n",
            "memory usage: 873.0+ KB\n"
          ]
        }
      ]
    },
    {
      "cell_type": "code",
      "source": [
        "#checking for missung value\n",
        "for col in df.columns:\n",
        "    pct_missing = np.mean(df[col].isnull())\n",
        "    print('{} - {}%'.format(col, round(pct_missing*100)))"
      ],
      "metadata": {
        "colab": {
          "base_uri": "https://localhost:8080/"
        },
        "id": "LuuaD1NOXaHG",
        "outputId": "e574c112-7f37-4e2c-ac1e-38d25f3c38e4"
      },
      "execution_count": null,
      "outputs": [
        {
          "output_type": "stream",
          "name": "stdout",
          "text": [
            "Potential_Customer - 0%\n",
            "Cust_Last_Purchase - 52%\n",
            "Pur_3_years - 0%\n",
            "Pur_5_years - 0%\n",
            "Pur_3_years_Indirect - 0%\n",
            "Pur_5_years_Indirect - 0%\n",
            "Pur_latest - 0%\n",
            "Pur_3_years_Avg - 0%\n",
            "Pur_5_years_Avg - 0%\n",
            "Pur_3_years_Avg_Indirect - 18%\n",
            "InAct_Last - 0%\n",
            "InAct_First - 0%\n",
            "Ad_Res_1_year - 0%\n",
            "Ad_Res_3_Year - 0%\n",
            "Ad_Res_5_Year - 0%\n",
            "Ad_Res_Ind_1_Year - 0%\n",
            "Ad_Res_Ind_3_Year - 0%\n",
            "Ad_Res_Ind_5_Year - 0%\n",
            "Status_Cust - 0%\n",
            "Status_Latest_Ad - 0%\n",
            "Age - 22%\n",
            "Gender - 0%\n",
            "Cust_Prop - 0%\n",
            "Cust_Ann_Income - 0%\n"
          ]
        }
      ]
    },
    {
      "cell_type": "code",
      "source": [
        "df.corr(method=\"pearson\") "
      ],
      "metadata": {
        "colab": {
          "base_uri": "https://localhost:8080/",
          "height": 801
        },
        "id": "mJc81CvBgieI",
        "outputId": "105ca2f5-a922-42e0-ebfb-2393a8fc0a93"
      },
      "execution_count": null,
      "outputs": [
        {
          "output_type": "execute_result",
          "data": {
            "text/plain": [
              "                          Potential_Customer  Cust_Last_Purchase  Pur_3_years  \\\n",
              "Potential_Customer                  1.000000                 NaN     0.147106   \n",
              "Cust_Last_Purchase                       NaN            1.000000    -0.322553   \n",
              "Pur_3_years                         0.147106           -0.322553     1.000000   \n",
              "Pur_5_years                         0.097972           -0.211361     0.557350   \n",
              "Pur_3_years_Indirect                0.135133           -0.273108     0.842210   \n",
              "Pur_5_years_Indirect                0.098305           -0.236708     0.540581   \n",
              "Pur_latest                         -0.101008            0.776690    -0.349252   \n",
              "Pur_3_years_Avg                    -0.103504            0.724706    -0.355583   \n",
              "Pur_5_years_Avg                    -0.111500            0.620225    -0.369803   \n",
              "Pur_3_years_Avg_Indirect           -0.114940            0.739081    -0.376704   \n",
              "InAct_Last                         -0.103023            0.107874    -0.237964   \n",
              "InAct_First                         0.070813           -0.133234     0.190738   \n",
              "Ad_Res_1_year                       0.053949            0.069792     0.197819   \n",
              "Ad_Res_3_Year                       0.077662            0.007594     0.384991   \n",
              "Ad_Res_5_Year                       0.080109           -0.077098     0.301513   \n",
              "Ad_Res_Ind_1_Year                   0.063209           -0.001391     0.344823   \n",
              "Ad_Res_Ind_3_Year                   0.097746           -0.137434     0.593459   \n",
              "Ad_Res_Ind_5_Year                   0.073056           -0.112825     0.330041   \n",
              "Status_Latest_Ad                    0.110590           -0.230314     0.456353   \n",
              "Age                                 0.042249           -0.073865     0.064089   \n",
              "Cust_Ann_Income                    -0.021580            0.061243    -0.074388   \n",
              "\n",
              "                          Pur_5_years  Pur_3_years_Indirect  \\\n",
              "Potential_Customer           0.097972              0.135133   \n",
              "Cust_Last_Purchase          -0.211361             -0.273108   \n",
              "Pur_3_years                  0.557350              0.842210   \n",
              "Pur_5_years                  1.000000              0.478441   \n",
              "Pur_3_years_Indirect         0.478441              1.000000   \n",
              "Pur_5_years_Indirect         0.905120              0.566286   \n",
              "Pur_latest                  -0.260562             -0.296213   \n",
              "Pur_3_years_Avg             -0.248276             -0.293545   \n",
              "Pur_5_years_Avg             -0.339597             -0.292267   \n",
              "Pur_3_years_Avg_Indirect    -0.240580             -0.300027   \n",
              "InAct_Last                  -0.241410             -0.168513   \n",
              "InAct_First                  0.709486              0.129750   \n",
              "Ad_Res_1_year                0.321440              0.165172   \n",
              "Ad_Res_3_Year                0.466951              0.275014   \n",
              "Ad_Res_5_Year                0.790215              0.231537   \n",
              "Ad_Res_Ind_1_Year            0.240929              0.274756   \n",
              "Ad_Res_Ind_3_Year            0.427481              0.639989   \n",
              "Ad_Res_Ind_5_Year            0.756462              0.252604   \n",
              "Status_Latest_Ad             0.580379              0.424891   \n",
              "Age                          0.186004              0.045681   \n",
              "Cust_Ann_Income             -0.043361             -0.044092   \n",
              "\n",
              "                          Pur_5_years_Indirect  Pur_latest  Pur_3_years_Avg  \\\n",
              "Potential_Customer                    0.098305   -0.101008        -0.103504   \n",
              "Cust_Last_Purchase                   -0.236708    0.776690         0.724706   \n",
              "Pur_3_years                           0.540581   -0.349252        -0.355583   \n",
              "Pur_5_years                           0.905120   -0.260562        -0.248276   \n",
              "Pur_3_years_Indirect                  0.566286   -0.296213        -0.293545   \n",
              "Pur_5_years_Indirect                  1.000000   -0.266606        -0.257339   \n",
              "Pur_latest                           -0.266606    1.000000         0.786184   \n",
              "Pur_3_years_Avg                      -0.257339    0.786184         1.000000   \n",
              "Pur_5_years_Avg                      -0.361608    0.747429         0.881783   \n",
              "Pur_3_years_Avg_Indirect             -0.245621    0.742934         0.976536   \n",
              "InAct_Last                           -0.157472    0.132908         0.091458   \n",
              "InAct_First                           0.747152   -0.142707        -0.121262   \n",
              "Ad_Res_1_year                         0.181457    0.033439         0.085542   \n",
              "Ad_Res_3_Year                         0.368464   -0.022255         0.032629   \n",
              "Ad_Res_5_Year                         0.750877   -0.106823        -0.072774   \n",
              "Ad_Res_Ind_1_Year                     0.179324    0.001693         0.019759   \n",
              "Ad_Res_Ind_3_Year                     0.457074   -0.133058        -0.115329   \n",
              "Ad_Res_Ind_5_Year                     0.779955   -0.121806        -0.096414   \n",
              "Status_Latest_Ad                      0.641133   -0.273792        -0.265267   \n",
              "Age                                   0.177435   -0.055970        -0.060070   \n",
              "Cust_Ann_Income                      -0.041983    0.071228         0.055722   \n",
              "\n",
              "                          Pur_5_years_Avg  Pur_3_years_Avg_Indirect  ...  \\\n",
              "Potential_Customer              -0.111500                 -0.114940  ...   \n",
              "Cust_Last_Purchase               0.620225                  0.739081  ...   \n",
              "Pur_3_years                     -0.369803                 -0.376704  ...   \n",
              "Pur_5_years                     -0.339597                 -0.240580  ...   \n",
              "Pur_3_years_Indirect            -0.292267                 -0.300027  ...   \n",
              "Pur_5_years_Indirect            -0.361608                 -0.245621  ...   \n",
              "Pur_latest                       0.747429                  0.742934  ...   \n",
              "Pur_3_years_Avg                  0.881783                  0.976536  ...   \n",
              "Pur_5_years_Avg                  1.000000                  0.878690  ...   \n",
              "Pur_3_years_Avg_Indirect         0.878690                  1.000000  ...   \n",
              "InAct_Last                       0.082255                  0.087836  ...   \n",
              "InAct_First                     -0.297026                 -0.123559  ...   \n",
              "Ad_Res_1_year                    0.080269                  0.096935  ...   \n",
              "Ad_Res_3_Year                   -0.090136                  0.011648  ...   \n",
              "Ad_Res_5_Year                   -0.215725                 -0.070572  ...   \n",
              "Ad_Res_Ind_1_Year               -0.018264                  0.010423  ...   \n",
              "Ad_Res_Ind_3_Year               -0.179683                 -0.053453  ...   \n",
              "Ad_Res_Ind_5_Year               -0.261724                 -0.100258  ...   \n",
              "Status_Latest_Ad                -0.360026                 -0.275478  ...   \n",
              "Age                             -0.094175                 -0.050661  ...   \n",
              "Cust_Ann_Income                  0.062140                  0.059273  ...   \n",
              "\n",
              "                          InAct_First  Ad_Res_1_year  Ad_Res_3_Year  \\\n",
              "Potential_Customer           0.070813       0.053949       0.077662   \n",
              "Cust_Last_Purchase          -0.133234       0.069792       0.007594   \n",
              "Pur_3_years                  0.190738       0.197819       0.384991   \n",
              "Pur_5_years                  0.709486       0.321440       0.466951   \n",
              "Pur_3_years_Indirect         0.129750       0.165172       0.275014   \n",
              "Pur_5_years_Indirect         0.747152       0.181457       0.368464   \n",
              "Pur_latest                  -0.142707       0.033439      -0.022255   \n",
              "Pur_3_years_Avg             -0.121262       0.085542       0.032629   \n",
              "Pur_5_years_Avg             -0.297026       0.080269      -0.090136   \n",
              "Pur_3_years_Avg_Indirect    -0.123559       0.096935       0.011648   \n",
              "InAct_Last                  -0.082802      -0.564820      -0.350155   \n",
              "InAct_First                  1.000000       0.150162       0.401906   \n",
              "Ad_Res_1_year                0.150162       1.000000       0.782275   \n",
              "Ad_Res_3_Year                0.401906       0.782275       1.000000   \n",
              "Ad_Res_5_Year                0.855834       0.527500       0.728215   \n",
              "Ad_Res_Ind_1_Year            0.120218       0.661544       0.715558   \n",
              "Ad_Res_Ind_3_Year            0.259583       0.357592       0.624917   \n",
              "Ad_Res_Ind_5_Year            0.902457       0.329764       0.638305   \n",
              "Status_Latest_Ad             0.524103       0.162372       0.346267   \n",
              "Age                          0.235337       0.107982       0.117307   \n",
              "Cust_Ann_Income             -0.028742       0.005792       0.013581   \n",
              "\n",
              "                          Ad_Res_5_Year  Ad_Res_Ind_1_Year  Ad_Res_Ind_3_Year  \\\n",
              "Potential_Customer             0.080109           0.063209           0.097746   \n",
              "Cust_Last_Purchase            -0.077098          -0.001391          -0.137434   \n",
              "Pur_3_years                    0.301513           0.344823           0.593459   \n",
              "Pur_5_years                    0.790215           0.240929           0.427481   \n",
              "Pur_3_years_Indirect           0.231537           0.274756           0.639989   \n",
              "Pur_5_years_Indirect           0.750877           0.179324           0.457074   \n",
              "Pur_latest                    -0.106823           0.001693          -0.133058   \n",
              "Pur_3_years_Avg               -0.072774           0.019759          -0.115329   \n",
              "Pur_5_years_Avg               -0.215725          -0.018264          -0.179683   \n",
              "Pur_3_years_Avg_Indirect      -0.070572           0.010423          -0.053453   \n",
              "InAct_Last                    -0.239222          -0.356574          -0.175138   \n",
              "InAct_First                    0.855834           0.120218           0.259583   \n",
              "Ad_Res_1_year                  0.527500           0.661544           0.357592   \n",
              "Ad_Res_3_Year                  0.728215           0.715558           0.624917   \n",
              "Ad_Res_5_Year                  1.000000           0.408179           0.448746   \n",
              "Ad_Res_Ind_1_Year              0.408179           1.000000           0.611498   \n",
              "Ad_Res_Ind_3_Year              0.448746           0.611498           1.000000   \n",
              "Ad_Res_Ind_5_Year              0.944387           0.402181           0.487999   \n",
              "Status_Latest_Ad               0.548878           0.205851           0.384951   \n",
              "Age                            0.218892           0.062968           0.073306   \n",
              "Cust_Ann_Income               -0.005562           0.034317           0.001534   \n",
              "\n",
              "                          Ad_Res_Ind_5_Year  Status_Latest_Ad       Age  \\\n",
              "Potential_Customer                 0.073056          0.110590  0.042249   \n",
              "Cust_Last_Purchase                -0.112825         -0.230314 -0.073865   \n",
              "Pur_3_years                        0.330041          0.456353  0.064089   \n",
              "Pur_5_years                        0.756462          0.580379  0.186004   \n",
              "Pur_3_years_Indirect               0.252604          0.424891  0.045681   \n",
              "Pur_5_years_Indirect               0.779955          0.641133  0.177435   \n",
              "Pur_latest                        -0.121806         -0.273792 -0.055970   \n",
              "Pur_3_years_Avg                   -0.096414         -0.265267 -0.060070   \n",
              "Pur_5_years_Avg                   -0.261724         -0.360026 -0.094175   \n",
              "Pur_3_years_Avg_Indirect          -0.100258         -0.275478 -0.050661   \n",
              "InAct_Last                        -0.138193         -0.147530 -0.099950   \n",
              "InAct_First                        0.902457          0.524103  0.235337   \n",
              "Ad_Res_1_year                      0.329764          0.162372  0.107982   \n",
              "Ad_Res_3_Year                      0.638305          0.346267  0.117307   \n",
              "Ad_Res_5_Year                      0.944387          0.548878  0.218892   \n",
              "Ad_Res_Ind_1_Year                  0.402181          0.205851  0.062968   \n",
              "Ad_Res_Ind_3_Year                  0.487999          0.384951  0.073306   \n",
              "Ad_Res_Ind_5_Year                  1.000000          0.576908  0.207477   \n",
              "Status_Latest_Ad                   0.576908          1.000000  0.151695   \n",
              "Age                                0.207477          0.151695  1.000000   \n",
              "Cust_Ann_Income                   -0.009323         -0.045307 -0.045528   \n",
              "\n",
              "                          Cust_Ann_Income  \n",
              "Potential_Customer              -0.021580  \n",
              "Cust_Last_Purchase               0.061243  \n",
              "Pur_3_years                     -0.074388  \n",
              "Pur_5_years                     -0.043361  \n",
              "Pur_3_years_Indirect            -0.044092  \n",
              "Pur_5_years_Indirect            -0.041983  \n",
              "Pur_latest                       0.071228  \n",
              "Pur_3_years_Avg                  0.055722  \n",
              "Pur_5_years_Avg                  0.062140  \n",
              "Pur_3_years_Avg_Indirect         0.059273  \n",
              "InAct_Last                       0.032755  \n",
              "InAct_First                     -0.028742  \n",
              "Ad_Res_1_year                    0.005792  \n",
              "Ad_Res_3_Year                    0.013581  \n",
              "Ad_Res_5_Year                   -0.005562  \n",
              "Ad_Res_Ind_1_Year                0.034317  \n",
              "Ad_Res_Ind_3_Year                0.001534  \n",
              "Ad_Res_Ind_5_Year               -0.009323  \n",
              "Status_Latest_Ad                -0.045307  \n",
              "Age                             -0.045528  \n",
              "Cust_Ann_Income                  1.000000  \n",
              "\n",
              "[21 rows x 21 columns]"
            ],
            "text/html": [
              "\n",
              "  <div id=\"df-321f5463-58e6-4dee-90b3-da6f8b397e2c\">\n",
              "    <div class=\"colab-df-container\">\n",
              "      <div>\n",
              "<style scoped>\n",
              "    .dataframe tbody tr th:only-of-type {\n",
              "        vertical-align: middle;\n",
              "    }\n",
              "\n",
              "    .dataframe tbody tr th {\n",
              "        vertical-align: top;\n",
              "    }\n",
              "\n",
              "    .dataframe thead th {\n",
              "        text-align: right;\n",
              "    }\n",
              "</style>\n",
              "<table border=\"1\" class=\"dataframe\">\n",
              "  <thead>\n",
              "    <tr style=\"text-align: right;\">\n",
              "      <th></th>\n",
              "      <th>Potential_Customer</th>\n",
              "      <th>Cust_Last_Purchase</th>\n",
              "      <th>Pur_3_years</th>\n",
              "      <th>Pur_5_years</th>\n",
              "      <th>Pur_3_years_Indirect</th>\n",
              "      <th>Pur_5_years_Indirect</th>\n",
              "      <th>Pur_latest</th>\n",
              "      <th>Pur_3_years_Avg</th>\n",
              "      <th>Pur_5_years_Avg</th>\n",
              "      <th>Pur_3_years_Avg_Indirect</th>\n",
              "      <th>...</th>\n",
              "      <th>InAct_First</th>\n",
              "      <th>Ad_Res_1_year</th>\n",
              "      <th>Ad_Res_3_Year</th>\n",
              "      <th>Ad_Res_5_Year</th>\n",
              "      <th>Ad_Res_Ind_1_Year</th>\n",
              "      <th>Ad_Res_Ind_3_Year</th>\n",
              "      <th>Ad_Res_Ind_5_Year</th>\n",
              "      <th>Status_Latest_Ad</th>\n",
              "      <th>Age</th>\n",
              "      <th>Cust_Ann_Income</th>\n",
              "    </tr>\n",
              "  </thead>\n",
              "  <tbody>\n",
              "    <tr>\n",
              "      <th>Potential_Customer</th>\n",
              "      <td>1.000000</td>\n",
              "      <td>NaN</td>\n",
              "      <td>0.147106</td>\n",
              "      <td>0.097972</td>\n",
              "      <td>0.135133</td>\n",
              "      <td>0.098305</td>\n",
              "      <td>-0.101008</td>\n",
              "      <td>-0.103504</td>\n",
              "      <td>-0.111500</td>\n",
              "      <td>-0.114940</td>\n",
              "      <td>...</td>\n",
              "      <td>0.070813</td>\n",
              "      <td>0.053949</td>\n",
              "      <td>0.077662</td>\n",
              "      <td>0.080109</td>\n",
              "      <td>0.063209</td>\n",
              "      <td>0.097746</td>\n",
              "      <td>0.073056</td>\n",
              "      <td>0.110590</td>\n",
              "      <td>0.042249</td>\n",
              "      <td>-0.021580</td>\n",
              "    </tr>\n",
              "    <tr>\n",
              "      <th>Cust_Last_Purchase</th>\n",
              "      <td>NaN</td>\n",
              "      <td>1.000000</td>\n",
              "      <td>-0.322553</td>\n",
              "      <td>-0.211361</td>\n",
              "      <td>-0.273108</td>\n",
              "      <td>-0.236708</td>\n",
              "      <td>0.776690</td>\n",
              "      <td>0.724706</td>\n",
              "      <td>0.620225</td>\n",
              "      <td>0.739081</td>\n",
              "      <td>...</td>\n",
              "      <td>-0.133234</td>\n",
              "      <td>0.069792</td>\n",
              "      <td>0.007594</td>\n",
              "      <td>-0.077098</td>\n",
              "      <td>-0.001391</td>\n",
              "      <td>-0.137434</td>\n",
              "      <td>-0.112825</td>\n",
              "      <td>-0.230314</td>\n",
              "      <td>-0.073865</td>\n",
              "      <td>0.061243</td>\n",
              "    </tr>\n",
              "    <tr>\n",
              "      <th>Pur_3_years</th>\n",
              "      <td>0.147106</td>\n",
              "      <td>-0.322553</td>\n",
              "      <td>1.000000</td>\n",
              "      <td>0.557350</td>\n",
              "      <td>0.842210</td>\n",
              "      <td>0.540581</td>\n",
              "      <td>-0.349252</td>\n",
              "      <td>-0.355583</td>\n",
              "      <td>-0.369803</td>\n",
              "      <td>-0.376704</td>\n",
              "      <td>...</td>\n",
              "      <td>0.190738</td>\n",
              "      <td>0.197819</td>\n",
              "      <td>0.384991</td>\n",
              "      <td>0.301513</td>\n",
              "      <td>0.344823</td>\n",
              "      <td>0.593459</td>\n",
              "      <td>0.330041</td>\n",
              "      <td>0.456353</td>\n",
              "      <td>0.064089</td>\n",
              "      <td>-0.074388</td>\n",
              "    </tr>\n",
              "    <tr>\n",
              "      <th>Pur_5_years</th>\n",
              "      <td>0.097972</td>\n",
              "      <td>-0.211361</td>\n",
              "      <td>0.557350</td>\n",
              "      <td>1.000000</td>\n",
              "      <td>0.478441</td>\n",
              "      <td>0.905120</td>\n",
              "      <td>-0.260562</td>\n",
              "      <td>-0.248276</td>\n",
              "      <td>-0.339597</td>\n",
              "      <td>-0.240580</td>\n",
              "      <td>...</td>\n",
              "      <td>0.709486</td>\n",
              "      <td>0.321440</td>\n",
              "      <td>0.466951</td>\n",
              "      <td>0.790215</td>\n",
              "      <td>0.240929</td>\n",
              "      <td>0.427481</td>\n",
              "      <td>0.756462</td>\n",
              "      <td>0.580379</td>\n",
              "      <td>0.186004</td>\n",
              "      <td>-0.043361</td>\n",
              "    </tr>\n",
              "    <tr>\n",
              "      <th>Pur_3_years_Indirect</th>\n",
              "      <td>0.135133</td>\n",
              "      <td>-0.273108</td>\n",
              "      <td>0.842210</td>\n",
              "      <td>0.478441</td>\n",
              "      <td>1.000000</td>\n",
              "      <td>0.566286</td>\n",
              "      <td>-0.296213</td>\n",
              "      <td>-0.293545</td>\n",
              "      <td>-0.292267</td>\n",
              "      <td>-0.300027</td>\n",
              "      <td>...</td>\n",
              "      <td>0.129750</td>\n",
              "      <td>0.165172</td>\n",
              "      <td>0.275014</td>\n",
              "      <td>0.231537</td>\n",
              "      <td>0.274756</td>\n",
              "      <td>0.639989</td>\n",
              "      <td>0.252604</td>\n",
              "      <td>0.424891</td>\n",
              "      <td>0.045681</td>\n",
              "      <td>-0.044092</td>\n",
              "    </tr>\n",
              "    <tr>\n",
              "      <th>Pur_5_years_Indirect</th>\n",
              "      <td>0.098305</td>\n",
              "      <td>-0.236708</td>\n",
              "      <td>0.540581</td>\n",
              "      <td>0.905120</td>\n",
              "      <td>0.566286</td>\n",
              "      <td>1.000000</td>\n",
              "      <td>-0.266606</td>\n",
              "      <td>-0.257339</td>\n",
              "      <td>-0.361608</td>\n",
              "      <td>-0.245621</td>\n",
              "      <td>...</td>\n",
              "      <td>0.747152</td>\n",
              "      <td>0.181457</td>\n",
              "      <td>0.368464</td>\n",
              "      <td>0.750877</td>\n",
              "      <td>0.179324</td>\n",
              "      <td>0.457074</td>\n",
              "      <td>0.779955</td>\n",
              "      <td>0.641133</td>\n",
              "      <td>0.177435</td>\n",
              "      <td>-0.041983</td>\n",
              "    </tr>\n",
              "    <tr>\n",
              "      <th>Pur_latest</th>\n",
              "      <td>-0.101008</td>\n",
              "      <td>0.776690</td>\n",
              "      <td>-0.349252</td>\n",
              "      <td>-0.260562</td>\n",
              "      <td>-0.296213</td>\n",
              "      <td>-0.266606</td>\n",
              "      <td>1.000000</td>\n",
              "      <td>0.786184</td>\n",
              "      <td>0.747429</td>\n",
              "      <td>0.742934</td>\n",
              "      <td>...</td>\n",
              "      <td>-0.142707</td>\n",
              "      <td>0.033439</td>\n",
              "      <td>-0.022255</td>\n",
              "      <td>-0.106823</td>\n",
              "      <td>0.001693</td>\n",
              "      <td>-0.133058</td>\n",
              "      <td>-0.121806</td>\n",
              "      <td>-0.273792</td>\n",
              "      <td>-0.055970</td>\n",
              "      <td>0.071228</td>\n",
              "    </tr>\n",
              "    <tr>\n",
              "      <th>Pur_3_years_Avg</th>\n",
              "      <td>-0.103504</td>\n",
              "      <td>0.724706</td>\n",
              "      <td>-0.355583</td>\n",
              "      <td>-0.248276</td>\n",
              "      <td>-0.293545</td>\n",
              "      <td>-0.257339</td>\n",
              "      <td>0.786184</td>\n",
              "      <td>1.000000</td>\n",
              "      <td>0.881783</td>\n",
              "      <td>0.976536</td>\n",
              "      <td>...</td>\n",
              "      <td>-0.121262</td>\n",
              "      <td>0.085542</td>\n",
              "      <td>0.032629</td>\n",
              "      <td>-0.072774</td>\n",
              "      <td>0.019759</td>\n",
              "      <td>-0.115329</td>\n",
              "      <td>-0.096414</td>\n",
              "      <td>-0.265267</td>\n",
              "      <td>-0.060070</td>\n",
              "      <td>0.055722</td>\n",
              "    </tr>\n",
              "    <tr>\n",
              "      <th>Pur_5_years_Avg</th>\n",
              "      <td>-0.111500</td>\n",
              "      <td>0.620225</td>\n",
              "      <td>-0.369803</td>\n",
              "      <td>-0.339597</td>\n",
              "      <td>-0.292267</td>\n",
              "      <td>-0.361608</td>\n",
              "      <td>0.747429</td>\n",
              "      <td>0.881783</td>\n",
              "      <td>1.000000</td>\n",
              "      <td>0.878690</td>\n",
              "      <td>...</td>\n",
              "      <td>-0.297026</td>\n",
              "      <td>0.080269</td>\n",
              "      <td>-0.090136</td>\n",
              "      <td>-0.215725</td>\n",
              "      <td>-0.018264</td>\n",
              "      <td>-0.179683</td>\n",
              "      <td>-0.261724</td>\n",
              "      <td>-0.360026</td>\n",
              "      <td>-0.094175</td>\n",
              "      <td>0.062140</td>\n",
              "    </tr>\n",
              "    <tr>\n",
              "      <th>Pur_3_years_Avg_Indirect</th>\n",
              "      <td>-0.114940</td>\n",
              "      <td>0.739081</td>\n",
              "      <td>-0.376704</td>\n",
              "      <td>-0.240580</td>\n",
              "      <td>-0.300027</td>\n",
              "      <td>-0.245621</td>\n",
              "      <td>0.742934</td>\n",
              "      <td>0.976536</td>\n",
              "      <td>0.878690</td>\n",
              "      <td>1.000000</td>\n",
              "      <td>...</td>\n",
              "      <td>-0.123559</td>\n",
              "      <td>0.096935</td>\n",
              "      <td>0.011648</td>\n",
              "      <td>-0.070572</td>\n",
              "      <td>0.010423</td>\n",
              "      <td>-0.053453</td>\n",
              "      <td>-0.100258</td>\n",
              "      <td>-0.275478</td>\n",
              "      <td>-0.050661</td>\n",
              "      <td>0.059273</td>\n",
              "    </tr>\n",
              "    <tr>\n",
              "      <th>InAct_Last</th>\n",
              "      <td>-0.103023</td>\n",
              "      <td>0.107874</td>\n",
              "      <td>-0.237964</td>\n",
              "      <td>-0.241410</td>\n",
              "      <td>-0.168513</td>\n",
              "      <td>-0.157472</td>\n",
              "      <td>0.132908</td>\n",
              "      <td>0.091458</td>\n",
              "      <td>0.082255</td>\n",
              "      <td>0.087836</td>\n",
              "      <td>...</td>\n",
              "      <td>-0.082802</td>\n",
              "      <td>-0.564820</td>\n",
              "      <td>-0.350155</td>\n",
              "      <td>-0.239222</td>\n",
              "      <td>-0.356574</td>\n",
              "      <td>-0.175138</td>\n",
              "      <td>-0.138193</td>\n",
              "      <td>-0.147530</td>\n",
              "      <td>-0.099950</td>\n",
              "      <td>0.032755</td>\n",
              "    </tr>\n",
              "    <tr>\n",
              "      <th>InAct_First</th>\n",
              "      <td>0.070813</td>\n",
              "      <td>-0.133234</td>\n",
              "      <td>0.190738</td>\n",
              "      <td>0.709486</td>\n",
              "      <td>0.129750</td>\n",
              "      <td>0.747152</td>\n",
              "      <td>-0.142707</td>\n",
              "      <td>-0.121262</td>\n",
              "      <td>-0.297026</td>\n",
              "      <td>-0.123559</td>\n",
              "      <td>...</td>\n",
              "      <td>1.000000</td>\n",
              "      <td>0.150162</td>\n",
              "      <td>0.401906</td>\n",
              "      <td>0.855834</td>\n",
              "      <td>0.120218</td>\n",
              "      <td>0.259583</td>\n",
              "      <td>0.902457</td>\n",
              "      <td>0.524103</td>\n",
              "      <td>0.235337</td>\n",
              "      <td>-0.028742</td>\n",
              "    </tr>\n",
              "    <tr>\n",
              "      <th>Ad_Res_1_year</th>\n",
              "      <td>0.053949</td>\n",
              "      <td>0.069792</td>\n",
              "      <td>0.197819</td>\n",
              "      <td>0.321440</td>\n",
              "      <td>0.165172</td>\n",
              "      <td>0.181457</td>\n",
              "      <td>0.033439</td>\n",
              "      <td>0.085542</td>\n",
              "      <td>0.080269</td>\n",
              "      <td>0.096935</td>\n",
              "      <td>...</td>\n",
              "      <td>0.150162</td>\n",
              "      <td>1.000000</td>\n",
              "      <td>0.782275</td>\n",
              "      <td>0.527500</td>\n",
              "      <td>0.661544</td>\n",
              "      <td>0.357592</td>\n",
              "      <td>0.329764</td>\n",
              "      <td>0.162372</td>\n",
              "      <td>0.107982</td>\n",
              "      <td>0.005792</td>\n",
              "    </tr>\n",
              "    <tr>\n",
              "      <th>Ad_Res_3_Year</th>\n",
              "      <td>0.077662</td>\n",
              "      <td>0.007594</td>\n",
              "      <td>0.384991</td>\n",
              "      <td>0.466951</td>\n",
              "      <td>0.275014</td>\n",
              "      <td>0.368464</td>\n",
              "      <td>-0.022255</td>\n",
              "      <td>0.032629</td>\n",
              "      <td>-0.090136</td>\n",
              "      <td>0.011648</td>\n",
              "      <td>...</td>\n",
              "      <td>0.401906</td>\n",
              "      <td>0.782275</td>\n",
              "      <td>1.000000</td>\n",
              "      <td>0.728215</td>\n",
              "      <td>0.715558</td>\n",
              "      <td>0.624917</td>\n",
              "      <td>0.638305</td>\n",
              "      <td>0.346267</td>\n",
              "      <td>0.117307</td>\n",
              "      <td>0.013581</td>\n",
              "    </tr>\n",
              "    <tr>\n",
              "      <th>Ad_Res_5_Year</th>\n",
              "      <td>0.080109</td>\n",
              "      <td>-0.077098</td>\n",
              "      <td>0.301513</td>\n",
              "      <td>0.790215</td>\n",
              "      <td>0.231537</td>\n",
              "      <td>0.750877</td>\n",
              "      <td>-0.106823</td>\n",
              "      <td>-0.072774</td>\n",
              "      <td>-0.215725</td>\n",
              "      <td>-0.070572</td>\n",
              "      <td>...</td>\n",
              "      <td>0.855834</td>\n",
              "      <td>0.527500</td>\n",
              "      <td>0.728215</td>\n",
              "      <td>1.000000</td>\n",
              "      <td>0.408179</td>\n",
              "      <td>0.448746</td>\n",
              "      <td>0.944387</td>\n",
              "      <td>0.548878</td>\n",
              "      <td>0.218892</td>\n",
              "      <td>-0.005562</td>\n",
              "    </tr>\n",
              "    <tr>\n",
              "      <th>Ad_Res_Ind_1_Year</th>\n",
              "      <td>0.063209</td>\n",
              "      <td>-0.001391</td>\n",
              "      <td>0.344823</td>\n",
              "      <td>0.240929</td>\n",
              "      <td>0.274756</td>\n",
              "      <td>0.179324</td>\n",
              "      <td>0.001693</td>\n",
              "      <td>0.019759</td>\n",
              "      <td>-0.018264</td>\n",
              "      <td>0.010423</td>\n",
              "      <td>...</td>\n",
              "      <td>0.120218</td>\n",
              "      <td>0.661544</td>\n",
              "      <td>0.715558</td>\n",
              "      <td>0.408179</td>\n",
              "      <td>1.000000</td>\n",
              "      <td>0.611498</td>\n",
              "      <td>0.402181</td>\n",
              "      <td>0.205851</td>\n",
              "      <td>0.062968</td>\n",
              "      <td>0.034317</td>\n",
              "    </tr>\n",
              "    <tr>\n",
              "      <th>Ad_Res_Ind_3_Year</th>\n",
              "      <td>0.097746</td>\n",
              "      <td>-0.137434</td>\n",
              "      <td>0.593459</td>\n",
              "      <td>0.427481</td>\n",
              "      <td>0.639989</td>\n",
              "      <td>0.457074</td>\n",
              "      <td>-0.133058</td>\n",
              "      <td>-0.115329</td>\n",
              "      <td>-0.179683</td>\n",
              "      <td>-0.053453</td>\n",
              "      <td>...</td>\n",
              "      <td>0.259583</td>\n",
              "      <td>0.357592</td>\n",
              "      <td>0.624917</td>\n",
              "      <td>0.448746</td>\n",
              "      <td>0.611498</td>\n",
              "      <td>1.000000</td>\n",
              "      <td>0.487999</td>\n",
              "      <td>0.384951</td>\n",
              "      <td>0.073306</td>\n",
              "      <td>0.001534</td>\n",
              "    </tr>\n",
              "    <tr>\n",
              "      <th>Ad_Res_Ind_5_Year</th>\n",
              "      <td>0.073056</td>\n",
              "      <td>-0.112825</td>\n",
              "      <td>0.330041</td>\n",
              "      <td>0.756462</td>\n",
              "      <td>0.252604</td>\n",
              "      <td>0.779955</td>\n",
              "      <td>-0.121806</td>\n",
              "      <td>-0.096414</td>\n",
              "      <td>-0.261724</td>\n",
              "      <td>-0.100258</td>\n",
              "      <td>...</td>\n",
              "      <td>0.902457</td>\n",
              "      <td>0.329764</td>\n",
              "      <td>0.638305</td>\n",
              "      <td>0.944387</td>\n",
              "      <td>0.402181</td>\n",
              "      <td>0.487999</td>\n",
              "      <td>1.000000</td>\n",
              "      <td>0.576908</td>\n",
              "      <td>0.207477</td>\n",
              "      <td>-0.009323</td>\n",
              "    </tr>\n",
              "    <tr>\n",
              "      <th>Status_Latest_Ad</th>\n",
              "      <td>0.110590</td>\n",
              "      <td>-0.230314</td>\n",
              "      <td>0.456353</td>\n",
              "      <td>0.580379</td>\n",
              "      <td>0.424891</td>\n",
              "      <td>0.641133</td>\n",
              "      <td>-0.273792</td>\n",
              "      <td>-0.265267</td>\n",
              "      <td>-0.360026</td>\n",
              "      <td>-0.275478</td>\n",
              "      <td>...</td>\n",
              "      <td>0.524103</td>\n",
              "      <td>0.162372</td>\n",
              "      <td>0.346267</td>\n",
              "      <td>0.548878</td>\n",
              "      <td>0.205851</td>\n",
              "      <td>0.384951</td>\n",
              "      <td>0.576908</td>\n",
              "      <td>1.000000</td>\n",
              "      <td>0.151695</td>\n",
              "      <td>-0.045307</td>\n",
              "    </tr>\n",
              "    <tr>\n",
              "      <th>Age</th>\n",
              "      <td>0.042249</td>\n",
              "      <td>-0.073865</td>\n",
              "      <td>0.064089</td>\n",
              "      <td>0.186004</td>\n",
              "      <td>0.045681</td>\n",
              "      <td>0.177435</td>\n",
              "      <td>-0.055970</td>\n",
              "      <td>-0.060070</td>\n",
              "      <td>-0.094175</td>\n",
              "      <td>-0.050661</td>\n",
              "      <td>...</td>\n",
              "      <td>0.235337</td>\n",
              "      <td>0.107982</td>\n",
              "      <td>0.117307</td>\n",
              "      <td>0.218892</td>\n",
              "      <td>0.062968</td>\n",
              "      <td>0.073306</td>\n",
              "      <td>0.207477</td>\n",
              "      <td>0.151695</td>\n",
              "      <td>1.000000</td>\n",
              "      <td>-0.045528</td>\n",
              "    </tr>\n",
              "    <tr>\n",
              "      <th>Cust_Ann_Income</th>\n",
              "      <td>-0.021580</td>\n",
              "      <td>0.061243</td>\n",
              "      <td>-0.074388</td>\n",
              "      <td>-0.043361</td>\n",
              "      <td>-0.044092</td>\n",
              "      <td>-0.041983</td>\n",
              "      <td>0.071228</td>\n",
              "      <td>0.055722</td>\n",
              "      <td>0.062140</td>\n",
              "      <td>0.059273</td>\n",
              "      <td>...</td>\n",
              "      <td>-0.028742</td>\n",
              "      <td>0.005792</td>\n",
              "      <td>0.013581</td>\n",
              "      <td>-0.005562</td>\n",
              "      <td>0.034317</td>\n",
              "      <td>0.001534</td>\n",
              "      <td>-0.009323</td>\n",
              "      <td>-0.045307</td>\n",
              "      <td>-0.045528</td>\n",
              "      <td>1.000000</td>\n",
              "    </tr>\n",
              "  </tbody>\n",
              "</table>\n",
              "<p>21 rows × 21 columns</p>\n",
              "</div>\n",
              "      <button class=\"colab-df-convert\" onclick=\"convertToInteractive('df-321f5463-58e6-4dee-90b3-da6f8b397e2c')\"\n",
              "              title=\"Convert this dataframe to an interactive table.\"\n",
              "              style=\"display:none;\">\n",
              "        \n",
              "  <svg xmlns=\"http://www.w3.org/2000/svg\" height=\"24px\"viewBox=\"0 0 24 24\"\n",
              "       width=\"24px\">\n",
              "    <path d=\"M0 0h24v24H0V0z\" fill=\"none\"/>\n",
              "    <path d=\"M18.56 5.44l.94 2.06.94-2.06 2.06-.94-2.06-.94-.94-2.06-.94 2.06-2.06.94zm-11 1L8.5 8.5l.94-2.06 2.06-.94-2.06-.94L8.5 2.5l-.94 2.06-2.06.94zm10 10l.94 2.06.94-2.06 2.06-.94-2.06-.94-.94-2.06-.94 2.06-2.06.94z\"/><path d=\"M17.41 7.96l-1.37-1.37c-.4-.4-.92-.59-1.43-.59-.52 0-1.04.2-1.43.59L10.3 9.45l-7.72 7.72c-.78.78-.78 2.05 0 2.83L4 21.41c.39.39.9.59 1.41.59.51 0 1.02-.2 1.41-.59l7.78-7.78 2.81-2.81c.8-.78.8-2.07 0-2.86zM5.41 20L4 18.59l7.72-7.72 1.47 1.35L5.41 20z\"/>\n",
              "  </svg>\n",
              "      </button>\n",
              "      \n",
              "  <style>\n",
              "    .colab-df-container {\n",
              "      display:flex;\n",
              "      flex-wrap:wrap;\n",
              "      gap: 12px;\n",
              "    }\n",
              "\n",
              "    .colab-df-convert {\n",
              "      background-color: #E8F0FE;\n",
              "      border: none;\n",
              "      border-radius: 50%;\n",
              "      cursor: pointer;\n",
              "      display: none;\n",
              "      fill: #1967D2;\n",
              "      height: 32px;\n",
              "      padding: 0 0 0 0;\n",
              "      width: 32px;\n",
              "    }\n",
              "\n",
              "    .colab-df-convert:hover {\n",
              "      background-color: #E2EBFA;\n",
              "      box-shadow: 0px 1px 2px rgba(60, 64, 67, 0.3), 0px 1px 3px 1px rgba(60, 64, 67, 0.15);\n",
              "      fill: #174EA6;\n",
              "    }\n",
              "\n",
              "    [theme=dark] .colab-df-convert {\n",
              "      background-color: #3B4455;\n",
              "      fill: #D2E3FC;\n",
              "    }\n",
              "\n",
              "    [theme=dark] .colab-df-convert:hover {\n",
              "      background-color: #434B5C;\n",
              "      box-shadow: 0px 1px 3px 1px rgba(0, 0, 0, 0.15);\n",
              "      filter: drop-shadow(0px 1px 2px rgba(0, 0, 0, 0.3));\n",
              "      fill: #FFFFFF;\n",
              "    }\n",
              "  </style>\n",
              "\n",
              "      <script>\n",
              "        const buttonEl =\n",
              "          document.querySelector('#df-321f5463-58e6-4dee-90b3-da6f8b397e2c button.colab-df-convert');\n",
              "        buttonEl.style.display =\n",
              "          google.colab.kernel.accessAllowed ? 'block' : 'none';\n",
              "\n",
              "        async function convertToInteractive(key) {\n",
              "          const element = document.querySelector('#df-321f5463-58e6-4dee-90b3-da6f8b397e2c');\n",
              "          const dataTable =\n",
              "            await google.colab.kernel.invokeFunction('convertToInteractive',\n",
              "                                                     [key], {});\n",
              "          if (!dataTable) return;\n",
              "\n",
              "          const docLinkHtml = 'Like what you see? Visit the ' +\n",
              "            '<a target=\"_blank\" href=https://colab.research.google.com/notebooks/data_table.ipynb>data table notebook</a>'\n",
              "            + ' to learn more about interactive tables.';\n",
              "          element.innerHTML = '';\n",
              "          dataTable['output_type'] = 'display_data';\n",
              "          await google.colab.output.renderOutput(dataTable, element);\n",
              "          const docLink = document.createElement('div');\n",
              "          docLink.innerHTML = docLinkHtml;\n",
              "          element.appendChild(docLink);\n",
              "        }\n",
              "      </script>\n",
              "    </div>\n",
              "  </div>\n",
              "  "
            ]
          },
          "metadata": {},
          "execution_count": 33
        }
      ]
    },
    {
      "cell_type": "code",
      "source": [
        "# removing duplicates \n",
        "df.duplicated().sum()"
      ],
      "metadata": {
        "colab": {
          "base_uri": "https://localhost:8080/"
        },
        "id": "ySF_C4jpUEVw",
        "outputId": "07561e07-d504-4460-ef90-5d421dc6a3a4"
      },
      "execution_count": null,
      "outputs": [
        {
          "output_type": "execute_result",
          "data": {
            "text/plain": [
              "851"
            ]
          },
          "metadata": {},
          "execution_count": 10
        }
      ]
    },
    {
      "cell_type": "code",
      "source": [
        "df=df.drop_duplicates()\n",
        "df.duplicated().sum()"
      ],
      "metadata": {
        "colab": {
          "base_uri": "https://localhost:8080/"
        },
        "id": "zhgkZxaBUENb",
        "outputId": "cb9bee94-1022-4ccc-986b-5cd8e2bdce43"
      },
      "execution_count": null,
      "outputs": [
        {
          "output_type": "execute_result",
          "data": {
            "text/plain": [
              "0"
            ]
          },
          "metadata": {},
          "execution_count": 11
        }
      ]
    },
    {
      "cell_type": "code",
      "source": [
        "#removing C_ID (not relevant)\n",
        "df.drop('C_ID', axis = 1, inplace =True)\n"
      ],
      "metadata": {
        "id": "_UtMYeG3VWGc"
      },
      "execution_count": null,
      "outputs": []
    },
    {
      "cell_type": "code",
      "source": [
        "df.info() "
      ],
      "metadata": {
        "colab": {
          "base_uri": "https://localhost:8080/"
        },
        "id": "_801OoJ-Vi5M",
        "outputId": "4e20e30a-86fe-4804-846a-3532d803954d"
      },
      "execution_count": null,
      "outputs": [
        {
          "output_type": "stream",
          "name": "stdout",
          "text": [
            "<class 'pandas.core.frame.DataFrame'>\n",
            "Int64Index: 3618 entries, 0 to 3617\n",
            "Data columns (total 24 columns):\n",
            " #   Column                    Non-Null Count  Dtype  \n",
            "---  ------                    --------------  -----  \n",
            " 0   Potential_Customer        3618 non-null   int64  \n",
            " 1   Cust_Last_Purchase        1736 non-null   object \n",
            " 2   Pur_3_years               3618 non-null   int64  \n",
            " 3   Pur_5_years               3618 non-null   int64  \n",
            " 4   Pur_3_years_Indirect      3618 non-null   int64  \n",
            " 5   Pur_5_years_Indirect      3618 non-null   int64  \n",
            " 6   Pur_latest                3618 non-null   object \n",
            " 7   Pur_3_years_Avg           3618 non-null   object \n",
            " 8   Pur_5_years_Avg           3618 non-null   object \n",
            " 9   Pur_3_years_Avg_Indirect  2956 non-null   object \n",
            " 10  InAct_Last                3618 non-null   int64  \n",
            " 11  InAct_First               3618 non-null   int64  \n",
            " 12  Ad_Res_1_year             3618 non-null   int64  \n",
            " 13  Ad_Res_3_Year             3618 non-null   int64  \n",
            " 14  Ad_Res_5_Year             3618 non-null   int64  \n",
            " 15  Ad_Res_Ind_1_Year         3618 non-null   int64  \n",
            " 16  Ad_Res_Ind_3_Year         3618 non-null   int64  \n",
            " 17  Ad_Res_Ind_5_Year         3618 non-null   int64  \n",
            " 18  Status_Cust               3618 non-null   object \n",
            " 19  Status_Latest_Ad          3618 non-null   int64  \n",
            " 20  Age                       2825 non-null   float64\n",
            " 21  Gender                    3618 non-null   object \n",
            " 22  Cust_Prop                 3618 non-null   object \n",
            " 23  Cust_Ann_Income           3618 non-null   object \n",
            "dtypes: float64(1), int64(14), object(9)\n",
            "memory usage: 706.6+ KB\n"
          ]
        }
      ]
    },
    {
      "cell_type": "code",
      "source": [
        "#removing $ and , in data\n",
        "df['Cust_Last_Purchase']=df['Cust_Last_Purchase'].str.replace('$','').replace(',','', regex=True)\n",
        "df['Cust_Ann_Income'] = df['Cust_Ann_Income'].str.replace('$','').replace(',','' , regex = True)\n",
        "df['Pur_3_years_Avg'] = df['Pur_3_years_Avg'].str.replace('$','')\n",
        "df['Pur_5_years_Avg'] = df['Pur_5_years_Avg'].str.replace('$','')\n",
        "df['Pur_latest'] = df['Pur_latest'].str.replace('$','')\n",
        "df['Pur_3_years_Avg_Indirect'] = df['Pur_3_years_Avg_Indirect'].str.replace('$','')\n",
        "\n",
        "df.head()\n"
      ],
      "metadata": {
        "colab": {
          "base_uri": "https://localhost:8080/",
          "height": 299
        },
        "id": "qK4sivMWVK8h",
        "outputId": "42465083-7c48-45a7-f2bd-52cd0db4d368"
      },
      "execution_count": null,
      "outputs": [
        {
          "output_type": "execute_result",
          "data": {
            "text/plain": [
              "   Potential_Customer Cust_Last_Purchase  Pur_3_years  Pur_5_years  \\\n",
              "0                   1              5.00             2           17   \n",
              "1                   1             30.00             1            7   \n",
              "2                   0                NaN            5           12   \n",
              "3                   1             20.00             1           11   \n",
              "4                   1              5.00             3           15   \n",
              "\n",
              "   Pur_3_years_Indirect  Pur_5_years_Indirect Pur_latest Pur_3_years_Avg  \\\n",
              "0                     2                     4      0.00            7.50    \n",
              "1                     0                     3     25.00           25.00    \n",
              "2                     3                     5     15.00           15.00    \n",
              "3                     0                     3     20.00           20.00    \n",
              "4                     2                     7      3.00            4.33    \n",
              "\n",
              "  Pur_5_years_Avg Pur_3_years_Avg_Indirect  ...  Ad_Res_5_Year  \\\n",
              "0           7.76                     7.50   ...             73   \n",
              "1          13.00                       NaN  ...             55   \n",
              "2          11.25                    14.67   ...             53   \n",
              "3          12.45                       NaN  ...             71   \n",
              "4           3.80                     4.00   ...             63   \n",
              "\n",
              "   Ad_Res_Ind_1_Year  Ad_Res_Ind_3_Year  Ad_Res_Ind_5_Year  Status_Cust  \\\n",
              "0                  3                 12                 16            A   \n",
              "1                  6                  6                 22            A   \n",
              "2                  6                 17                 22            S   \n",
              "3                  8                  8                 33            A   \n",
              "4                  6                 12                 24            S   \n",
              "\n",
              "   Status_Latest_Ad   Age  Gender Cust_Prop  Cust_Ann_Income  \n",
              "0                 0  71.0       F         H        65957.00   \n",
              "1                 1   7.0       M         U            0.00   \n",
              "2                 1  79.0       F         U            0.00   \n",
              "3                 0  73.0       F         U        76293.00   \n",
              "4                 1  68.0       F         H       113663.00   \n",
              "\n",
              "[5 rows x 24 columns]"
            ],
            "text/html": [
              "\n",
              "  <div id=\"df-5a3df71b-745f-4d42-a89d-156fcedd3987\">\n",
              "    <div class=\"colab-df-container\">\n",
              "      <div>\n",
              "<style scoped>\n",
              "    .dataframe tbody tr th:only-of-type {\n",
              "        vertical-align: middle;\n",
              "    }\n",
              "\n",
              "    .dataframe tbody tr th {\n",
              "        vertical-align: top;\n",
              "    }\n",
              "\n",
              "    .dataframe thead th {\n",
              "        text-align: right;\n",
              "    }\n",
              "</style>\n",
              "<table border=\"1\" class=\"dataframe\">\n",
              "  <thead>\n",
              "    <tr style=\"text-align: right;\">\n",
              "      <th></th>\n",
              "      <th>Potential_Customer</th>\n",
              "      <th>Cust_Last_Purchase</th>\n",
              "      <th>Pur_3_years</th>\n",
              "      <th>Pur_5_years</th>\n",
              "      <th>Pur_3_years_Indirect</th>\n",
              "      <th>Pur_5_years_Indirect</th>\n",
              "      <th>Pur_latest</th>\n",
              "      <th>Pur_3_years_Avg</th>\n",
              "      <th>Pur_5_years_Avg</th>\n",
              "      <th>Pur_3_years_Avg_Indirect</th>\n",
              "      <th>...</th>\n",
              "      <th>Ad_Res_5_Year</th>\n",
              "      <th>Ad_Res_Ind_1_Year</th>\n",
              "      <th>Ad_Res_Ind_3_Year</th>\n",
              "      <th>Ad_Res_Ind_5_Year</th>\n",
              "      <th>Status_Cust</th>\n",
              "      <th>Status_Latest_Ad</th>\n",
              "      <th>Age</th>\n",
              "      <th>Gender</th>\n",
              "      <th>Cust_Prop</th>\n",
              "      <th>Cust_Ann_Income</th>\n",
              "    </tr>\n",
              "  </thead>\n",
              "  <tbody>\n",
              "    <tr>\n",
              "      <th>0</th>\n",
              "      <td>1</td>\n",
              "      <td>5.00</td>\n",
              "      <td>2</td>\n",
              "      <td>17</td>\n",
              "      <td>2</td>\n",
              "      <td>4</td>\n",
              "      <td>0.00</td>\n",
              "      <td>7.50</td>\n",
              "      <td>7.76</td>\n",
              "      <td>7.50</td>\n",
              "      <td>...</td>\n",
              "      <td>73</td>\n",
              "      <td>3</td>\n",
              "      <td>12</td>\n",
              "      <td>16</td>\n",
              "      <td>A</td>\n",
              "      <td>0</td>\n",
              "      <td>71.0</td>\n",
              "      <td>F</td>\n",
              "      <td>H</td>\n",
              "      <td>65957.00</td>\n",
              "    </tr>\n",
              "    <tr>\n",
              "      <th>1</th>\n",
              "      <td>1</td>\n",
              "      <td>30.00</td>\n",
              "      <td>1</td>\n",
              "      <td>7</td>\n",
              "      <td>0</td>\n",
              "      <td>3</td>\n",
              "      <td>25.00</td>\n",
              "      <td>25.00</td>\n",
              "      <td>13.00</td>\n",
              "      <td>NaN</td>\n",
              "      <td>...</td>\n",
              "      <td>55</td>\n",
              "      <td>6</td>\n",
              "      <td>6</td>\n",
              "      <td>22</td>\n",
              "      <td>A</td>\n",
              "      <td>1</td>\n",
              "      <td>7.0</td>\n",
              "      <td>M</td>\n",
              "      <td>U</td>\n",
              "      <td>0.00</td>\n",
              "    </tr>\n",
              "    <tr>\n",
              "      <th>2</th>\n",
              "      <td>0</td>\n",
              "      <td>NaN</td>\n",
              "      <td>5</td>\n",
              "      <td>12</td>\n",
              "      <td>3</td>\n",
              "      <td>5</td>\n",
              "      <td>15.00</td>\n",
              "      <td>15.00</td>\n",
              "      <td>11.25</td>\n",
              "      <td>14.67</td>\n",
              "      <td>...</td>\n",
              "      <td>53</td>\n",
              "      <td>6</td>\n",
              "      <td>17</td>\n",
              "      <td>22</td>\n",
              "      <td>S</td>\n",
              "      <td>1</td>\n",
              "      <td>79.0</td>\n",
              "      <td>F</td>\n",
              "      <td>U</td>\n",
              "      <td>0.00</td>\n",
              "    </tr>\n",
              "    <tr>\n",
              "      <th>3</th>\n",
              "      <td>1</td>\n",
              "      <td>20.00</td>\n",
              "      <td>1</td>\n",
              "      <td>11</td>\n",
              "      <td>0</td>\n",
              "      <td>3</td>\n",
              "      <td>20.00</td>\n",
              "      <td>20.00</td>\n",
              "      <td>12.45</td>\n",
              "      <td>NaN</td>\n",
              "      <td>...</td>\n",
              "      <td>71</td>\n",
              "      <td>8</td>\n",
              "      <td>8</td>\n",
              "      <td>33</td>\n",
              "      <td>A</td>\n",
              "      <td>0</td>\n",
              "      <td>73.0</td>\n",
              "      <td>F</td>\n",
              "      <td>U</td>\n",
              "      <td>76293.00</td>\n",
              "    </tr>\n",
              "    <tr>\n",
              "      <th>4</th>\n",
              "      <td>1</td>\n",
              "      <td>5.00</td>\n",
              "      <td>3</td>\n",
              "      <td>15</td>\n",
              "      <td>2</td>\n",
              "      <td>7</td>\n",
              "      <td>3.00</td>\n",
              "      <td>4.33</td>\n",
              "      <td>3.80</td>\n",
              "      <td>4.00</td>\n",
              "      <td>...</td>\n",
              "      <td>63</td>\n",
              "      <td>6</td>\n",
              "      <td>12</td>\n",
              "      <td>24</td>\n",
              "      <td>S</td>\n",
              "      <td>1</td>\n",
              "      <td>68.0</td>\n",
              "      <td>F</td>\n",
              "      <td>H</td>\n",
              "      <td>113663.00</td>\n",
              "    </tr>\n",
              "  </tbody>\n",
              "</table>\n",
              "<p>5 rows × 24 columns</p>\n",
              "</div>\n",
              "      <button class=\"colab-df-convert\" onclick=\"convertToInteractive('df-5a3df71b-745f-4d42-a89d-156fcedd3987')\"\n",
              "              title=\"Convert this dataframe to an interactive table.\"\n",
              "              style=\"display:none;\">\n",
              "        \n",
              "  <svg xmlns=\"http://www.w3.org/2000/svg\" height=\"24px\"viewBox=\"0 0 24 24\"\n",
              "       width=\"24px\">\n",
              "    <path d=\"M0 0h24v24H0V0z\" fill=\"none\"/>\n",
              "    <path d=\"M18.56 5.44l.94 2.06.94-2.06 2.06-.94-2.06-.94-.94-2.06-.94 2.06-2.06.94zm-11 1L8.5 8.5l.94-2.06 2.06-.94-2.06-.94L8.5 2.5l-.94 2.06-2.06.94zm10 10l.94 2.06.94-2.06 2.06-.94-2.06-.94-.94-2.06-.94 2.06-2.06.94z\"/><path d=\"M17.41 7.96l-1.37-1.37c-.4-.4-.92-.59-1.43-.59-.52 0-1.04.2-1.43.59L10.3 9.45l-7.72 7.72c-.78.78-.78 2.05 0 2.83L4 21.41c.39.39.9.59 1.41.59.51 0 1.02-.2 1.41-.59l7.78-7.78 2.81-2.81c.8-.78.8-2.07 0-2.86zM5.41 20L4 18.59l7.72-7.72 1.47 1.35L5.41 20z\"/>\n",
              "  </svg>\n",
              "      </button>\n",
              "      \n",
              "  <style>\n",
              "    .colab-df-container {\n",
              "      display:flex;\n",
              "      flex-wrap:wrap;\n",
              "      gap: 12px;\n",
              "    }\n",
              "\n",
              "    .colab-df-convert {\n",
              "      background-color: #E8F0FE;\n",
              "      border: none;\n",
              "      border-radius: 50%;\n",
              "      cursor: pointer;\n",
              "      display: none;\n",
              "      fill: #1967D2;\n",
              "      height: 32px;\n",
              "      padding: 0 0 0 0;\n",
              "      width: 32px;\n",
              "    }\n",
              "\n",
              "    .colab-df-convert:hover {\n",
              "      background-color: #E2EBFA;\n",
              "      box-shadow: 0px 1px 2px rgba(60, 64, 67, 0.3), 0px 1px 3px 1px rgba(60, 64, 67, 0.15);\n",
              "      fill: #174EA6;\n",
              "    }\n",
              "\n",
              "    [theme=dark] .colab-df-convert {\n",
              "      background-color: #3B4455;\n",
              "      fill: #D2E3FC;\n",
              "    }\n",
              "\n",
              "    [theme=dark] .colab-df-convert:hover {\n",
              "      background-color: #434B5C;\n",
              "      box-shadow: 0px 1px 3px 1px rgba(0, 0, 0, 0.15);\n",
              "      filter: drop-shadow(0px 1px 2px rgba(0, 0, 0, 0.3));\n",
              "      fill: #FFFFFF;\n",
              "    }\n",
              "  </style>\n",
              "\n",
              "      <script>\n",
              "        const buttonEl =\n",
              "          document.querySelector('#df-5a3df71b-745f-4d42-a89d-156fcedd3987 button.colab-df-convert');\n",
              "        buttonEl.style.display =\n",
              "          google.colab.kernel.accessAllowed ? 'block' : 'none';\n",
              "\n",
              "        async function convertToInteractive(key) {\n",
              "          const element = document.querySelector('#df-5a3df71b-745f-4d42-a89d-156fcedd3987');\n",
              "          const dataTable =\n",
              "            await google.colab.kernel.invokeFunction('convertToInteractive',\n",
              "                                                     [key], {});\n",
              "          if (!dataTable) return;\n",
              "\n",
              "          const docLinkHtml = 'Like what you see? Visit the ' +\n",
              "            '<a target=\"_blank\" href=https://colab.research.google.com/notebooks/data_table.ipynb>data table notebook</a>'\n",
              "            + ' to learn more about interactive tables.';\n",
              "          element.innerHTML = '';\n",
              "          dataTable['output_type'] = 'display_data';\n",
              "          await google.colab.output.renderOutput(dataTable, element);\n",
              "          const docLink = document.createElement('div');\n",
              "          docLink.innerHTML = docLinkHtml;\n",
              "          element.appendChild(docLink);\n",
              "        }\n",
              "      </script>\n",
              "    </div>\n",
              "  </div>\n",
              "  "
            ]
          },
          "metadata": {},
          "execution_count": 23
        }
      ]
    },
    {
      "cell_type": "code",
      "source": [
        "# change data type from object to numeric\n",
        "col_list = ['Pur_3_years_Avg','Pur_5_years_Avg','Pur_3_years_Avg_Indirect','Pur_latest','Cust_Ann_Income','Cust_Last_Purchase']\n",
        "df[col_list] = df[col_list].apply(pd.to_numeric)\n",
        "df.info()"
      ],
      "metadata": {
        "colab": {
          "base_uri": "https://localhost:8080/"
        },
        "id": "3jseKw3QUwYf",
        "outputId": "9a1ec637-7457-44e5-90a6-d7f45c4bf72a"
      },
      "execution_count": null,
      "outputs": [
        {
          "output_type": "stream",
          "name": "stdout",
          "text": [
            "<class 'pandas.core.frame.DataFrame'>\n",
            "Int64Index: 3618 entries, 0 to 3617\n",
            "Data columns (total 24 columns):\n",
            " #   Column                    Non-Null Count  Dtype  \n",
            "---  ------                    --------------  -----  \n",
            " 0   Potential_Customer        3618 non-null   int64  \n",
            " 1   Cust_Last_Purchase        1736 non-null   float64\n",
            " 2   Pur_3_years               3618 non-null   int64  \n",
            " 3   Pur_5_years               3618 non-null   int64  \n",
            " 4   Pur_3_years_Indirect      3618 non-null   int64  \n",
            " 5   Pur_5_years_Indirect      3618 non-null   int64  \n",
            " 6   Pur_latest                3618 non-null   float64\n",
            " 7   Pur_3_years_Avg           3618 non-null   float64\n",
            " 8   Pur_5_years_Avg           3618 non-null   float64\n",
            " 9   Pur_3_years_Avg_Indirect  2956 non-null   float64\n",
            " 10  InAct_Last                3618 non-null   int64  \n",
            " 11  InAct_First               3618 non-null   int64  \n",
            " 12  Ad_Res_1_year             3618 non-null   int64  \n",
            " 13  Ad_Res_3_Year             3618 non-null   int64  \n",
            " 14  Ad_Res_5_Year             3618 non-null   int64  \n",
            " 15  Ad_Res_Ind_1_Year         3618 non-null   int64  \n",
            " 16  Ad_Res_Ind_3_Year         3618 non-null   int64  \n",
            " 17  Ad_Res_Ind_5_Year         3618 non-null   int64  \n",
            " 18  Status_Cust               3618 non-null   object \n",
            " 19  Status_Latest_Ad          3618 non-null   int64  \n",
            " 20  Age                       2825 non-null   float64\n",
            " 21  Gender                    3618 non-null   object \n",
            " 22  Cust_Prop                 3618 non-null   object \n",
            " 23  Cust_Ann_Income           3618 non-null   float64\n",
            "dtypes: float64(7), int64(14), object(3)\n",
            "memory usage: 706.6+ KB\n"
          ]
        }
      ]
    },
    {
      "cell_type": "code",
      "source": [
        "df['Gender'].unique()\n",
        "# F = female, M = male, U = unknown"
      ],
      "metadata": {
        "colab": {
          "base_uri": "https://localhost:8080/"
        },
        "id": "WefqR4LIUwWF",
        "outputId": "0c41cdfc-98ab-40e9-aa9e-6563fb0ebf88"
      },
      "execution_count": null,
      "outputs": [
        {
          "output_type": "execute_result",
          "data": {
            "text/plain": [
              "array(['F', 'M', 'U'], dtype=object)"
            ]
          },
          "metadata": {},
          "execution_count": 26
        }
      ]
    },
    {
      "cell_type": "code",
      "source": [
        "df['Status_Cust'].unique()\n",
        "# A=active buyer, S=star buyer, E = inective buyer, F=first time buyer, N= new buyer, L= lapsing buyer"
      ],
      "metadata": {
        "colab": {
          "base_uri": "https://localhost:8080/"
        },
        "id": "3T0IUNmuUwUJ",
        "outputId": "6da88b8b-50da-4f34-b92d-cc0618d49ed3"
      },
      "execution_count": null,
      "outputs": [
        {
          "output_type": "execute_result",
          "data": {
            "text/plain": [
              "array(['A', 'S', 'E', 'F', 'N', 'L'], dtype=object)"
            ]
          },
          "metadata": {},
          "execution_count": 27
        }
      ]
    },
    {
      "cell_type": "markdown",
      "source": [
        "**EDA**\n",
        "Graphs and relationships"
      ],
      "metadata": {
        "id": "cfs00g8lgD89"
      }
    },
    {
      "cell_type": "markdown",
      "source": [
        "**'GENDER & CUSTOMER'S STATUS'**"
      ],
      "metadata": {
        "id": "Zmv4QZ75iyfz"
      }
    },
    {
      "cell_type": "code",
      "source": [
        "sns.countplot(x ='Gender', hue = 'Potential_Customer',data = df).set(title=\"Customer's_Gender\") "
      ],
      "metadata": {
        "colab": {
          "base_uri": "https://localhost:8080/",
          "height": 312
        },
        "id": "3YBpKihxUwPG",
        "outputId": "b59e6109-2cc3-47d8-a182-f598cca90463"
      },
      "execution_count": null,
      "outputs": [
        {
          "output_type": "execute_result",
          "data": {
            "text/plain": [
              "[Text(0.5, 1.0, \"Customer's_Gender\")]"
            ]
          },
          "metadata": {},
          "execution_count": 29
        },
        {
          "output_type": "display_data",
          "data": {
            "text/plain": [
              "<Figure size 432x288 with 1 Axes>"
            ],
            "image/png": "[encoded data removed]"
          },
          "metadata": {
            "needs_background": "light"
          }
        }
      ]
    },
    {
      "cell_type": "code",
      "source": [
        "df.Gender.value_counts()"
      ],
      "metadata": {
        "colab": {
          "base_uri": "https://localhost:8080/"
        },
        "id": "0qDBWtq6UwNM",
        "outputId": "9c33c3b3-ddd0-4cc7-d282-283a0e32afd3"
      },
      "execution_count": null,
      "outputs": [
        {
          "output_type": "execute_result",
          "data": {
            "text/plain": [
              "F    1922\n",
              "M    1530\n",
              "U     166\n",
              "Name: Gender, dtype: int64"
            ]
          },
          "metadata": {},
          "execution_count": 31
        }
      ]
    },
    {
      "cell_type": "code",
      "source": [
        "#clean gender\n",
        "# change unknown to female - as female is the mode \n",
        "df['Gender']=df['Gender'].replace('U','F')"
      ],
      "metadata": {
        "id": "M0OTc_Kbgko6"
      },
      "execution_count": null,
      "outputs": []
    },
    {
      "cell_type": "code",
      "source": [
        "df.Gender.value_counts()"
      ],
      "metadata": {
        "colab": {
          "base_uri": "https://localhost:8080/"
        },
        "id": "QexJNhxWhAgp",
        "outputId": "c12ceec6-0587-4154-be08-649654363f7c"
      },
      "execution_count": null,
      "outputs": [
        {
          "output_type": "execute_result",
          "data": {
            "text/plain": [
              "F    2088\n",
              "M    1530\n",
              "Name: Gender, dtype: int64"
            ]
          },
          "metadata": {},
          "execution_count": 36
        }
      ]
    },
    {
      "cell_type": "markdown",
      "source": [
        "**Target gender** should be female since they make the most % of potential customer & the most % of active buyer and star buyer."
      ],
      "metadata": {
        "id": "AN-yJKhdhKwG"
      }
    },
    {
      "cell_type": "code",
      "source": [
        "sns.countplot(x ='Gender', hue = 'Potential_Customer',data = df).set(title=\"Potential_Customer's_Gender\") "
      ],
      "metadata": {
        "colab": {
          "base_uri": "https://localhost:8080/",
          "height": 312
        },
        "id": "W6e6A3GYhDLB",
        "outputId": "4f17c9ff-9e63-430e-e34e-828a663e14f2"
      },
      "execution_count": null,
      "outputs": [
        {
          "output_type": "execute_result",
          "data": {
            "text/plain": [
              "[Text(0.5, 1.0, \"Potential_Customer's_Gender\")]"
            ]
          },
          "metadata": {},
          "execution_count": 38
        },
        {
          "output_type": "display_data",
          "data": {
            "text/plain": [
              "<Figure size 432x288 with 1 Axes>"
            ],
            "image/png": "[encoded data removed]"
          },
          "metadata": {
            "needs_background": "light"
          }
        }
      ]
    },
    {
      "cell_type": "code",
      "source": [
        "sns.countplot(x ='Gender', hue = 'Status_Cust',data = df).set(title=\"Potential_Customer's_Gender_Classification\")"
      ],
      "metadata": {
        "colab": {
          "base_uri": "https://localhost:8080/",
          "height": 312
        },
        "id": "2R5zCgryhduM",
        "outputId": "dddb5d5c-b2f3-41ab-a711-4ad30b058824"
      },
      "execution_count": null,
      "outputs": [
        {
          "output_type": "execute_result",
          "data": {
            "text/plain": [
              "[Text(0.5, 1.0, \"Potential_Customer's_Gender_Classification\")]"
            ]
          },
          "metadata": {},
          "execution_count": 39
        },
        {
          "output_type": "display_data",
          "data": {
            "text/plain": [
              "<Figure size 432x288 with 1 Axes>"
            ],
            "image/png": "[encoded data removed]"
          },
          "metadata": {
            "needs_background": "light"
          }
        }
      ]
    },
    {
      "cell_type": "code",
      "source": [
        "#clean potential customer column\n",
        "# combine E,F,N,L into one group since they only makes a small % and we only interested in active and star buyer\n",
        "sns.countplot(x ='Status_Cust' , hue='Potential_Customer',data = df)"
      ],
      "metadata": {
        "colab": {
          "base_uri": "https://localhost:8080/",
          "height": 301
        },
        "id": "nBftAYV9UwJo",
        "outputId": "27c2a573-4d1f-461f-bd35-b4718b6d8bc3"
      },
      "execution_count": null,
      "outputs": [
        {
          "output_type": "execute_result",
          "data": {
            "text/plain": [
              "<matplotlib.axes._subplots.AxesSubplot at 0x7efbdceef0d0>"
            ]
          },
          "metadata": {},
          "execution_count": 30
        },
        {
          "output_type": "display_data",
          "data": {
            "text/plain": [
              "<Figure size 432x288 with 1 Axes>"
            ],
            "image/png": "[encoded data removed]"
          },
          "metadata": {
            "needs_background": "light"
          }
        }
      ]
    },
    {
      "cell_type": "code",
      "source": [
        "df.Status_Cust.value_counts()"
      ],
      "metadata": {
        "colab": {
          "base_uri": "https://localhost:8080/"
        },
        "id": "9Z8yhyrnUwH3",
        "outputId": "e4c9c041-2e25-404a-80ea-f3f0507b0e1e"
      },
      "execution_count": null,
      "outputs": [
        {
          "output_type": "execute_result",
          "data": {
            "text/plain": [
              "A    2146\n",
              "S     964\n",
              "F     219\n",
              "N     207\n",
              "E      72\n",
              "L      10\n",
              "Name: Status_Cust, dtype: int64"
            ]
          },
          "metadata": {},
          "execution_count": 40
        }
      ]
    },
    {
      "cell_type": "code",
      "source": [
        "# O = others\n",
        "df['Status_Cust']=df['Status_Cust'].replace('F','O').replace('N','O').replace('E','O').replace('L','O')"
      ],
      "metadata": {
        "id": "Ahty73VhUwFw"
      },
      "execution_count": null,
      "outputs": []
    },
    {
      "cell_type": "code",
      "source": [
        "df.Status_Cust.value_counts()"
      ],
      "metadata": {
        "colab": {
          "base_uri": "https://localhost:8080/"
        },
        "id": "pIJQJMlCUwD5",
        "outputId": "55daecf0-3aa7-4fc3-c429-e39923ef5653"
      },
      "execution_count": null,
      "outputs": [
        {
          "output_type": "execute_result",
          "data": {
            "text/plain": [
              "A    2146\n",
              "S     964\n",
              "O     508\n",
              "Name: Status_Cust, dtype: int64"
            ]
          },
          "metadata": {},
          "execution_count": 42
        }
      ]
    },
    {
      "cell_type": "code",
      "source": [
        "sns.countplot(x ='Status_Cust' , hue='Potential_Customer',data = df)"
      ],
      "metadata": {
        "colab": {
          "base_uri": "https://localhost:8080/",
          "height": 301
        },
        "id": "XnxsTxHPUwBa",
        "outputId": "925b9e3d-409f-466a-ef5f-591a47203708"
      },
      "execution_count": null,
      "outputs": [
        {
          "output_type": "execute_result",
          "data": {
            "text/plain": [
              "<matplotlib.axes._subplots.AxesSubplot at 0x7efbdd5e4810>"
            ]
          },
          "metadata": {},
          "execution_count": 43
        },
        {
          "output_type": "display_data",
          "data": {
            "text/plain": [
              "<Figure size 432x288 with 1 Axes>"
            ],
            "image/png": "[encoded data removed]"
          },
          "metadata": {
            "needs_background": "light"
          }
        }
      ]
    },
    {
      "cell_type": "code",
      "source": [
        "# gender grpah again but cleaned\n",
        "sns.countplot(x ='Status_Cust' , hue='Potential_Customer',data = df)"
      ],
      "metadata": {
        "colab": {
          "base_uri": "https://localhost:8080/",
          "height": 301
        },
        "id": "ki7hzyk-Uv_R",
        "outputId": "b3b5208d-5ccb-4b22-e0cf-ec48b2947029"
      },
      "execution_count": null,
      "outputs": [
        {
          "output_type": "execute_result",
          "data": {
            "text/plain": [
              "<matplotlib.axes._subplots.AxesSubplot at 0x7efbdcc013d0>"
            ]
          },
          "metadata": {},
          "execution_count": 44
        },
        {
          "output_type": "display_data",
          "data": {
            "text/plain": [
              "<Figure size 432x288 with 1 Axes>"
            ],
            "image/png": "[encoded data removed]"
          },
          "metadata": {
            "needs_background": "light"
          }
        }
      ]
    },
    {
      "cell_type": "markdown",
      "source": [
        "**'Pur_latest'**"
      ],
      "metadata": {
        "id": "4bPypk1UjAv8"
      }
    },
    {
      "cell_type": "code",
      "source": [
        "sns.distplot(df['Pur_latest'])"
      ],
      "metadata": {
        "colab": {
          "base_uri": "https://localhost:8080/",
          "height": 297
        },
        "id": "eQJ9uUKbUv9I",
        "outputId": "7058cc78-cc37-43bd-834c-3e88b02f4158"
      },
      "execution_count": null,
      "outputs": [
        {
          "output_type": "execute_result",
          "data": {
            "text/plain": [
              "<matplotlib.axes._subplots.AxesSubplot at 0x7efbdd66d950>"
            ]
          },
          "metadata": {},
          "execution_count": 45
        },
        {
          "output_type": "display_data",
          "data": {
            "text/plain": [
              "<Figure size 432x288 with 1 Axes>"
            ],
            "image/png": "[encoded data removed]"
          },
          "metadata": {
            "needs_background": "light"
          }
        }
      ]
    },
    {
      "cell_type": "code",
      "source": [
        "sns.boxplot(df['Pur_latest'])"
      ],
      "metadata": {
        "colab": {
          "base_uri": "https://localhost:8080/",
          "height": 297
        },
        "id": "QGHtCzw2Uv21",
        "outputId": "05b41bb6-da59-4d05-8ff0-8545b6ed76d5"
      },
      "execution_count": null,
      "outputs": [
        {
          "output_type": "execute_result",
          "data": {
            "text/plain": [
              "<matplotlib.axes._subplots.AxesSubplot at 0x7efbdcaf1490>"
            ]
          },
          "metadata": {},
          "execution_count": 46
        },
        {
          "output_type": "display_data",
          "data": {
            "text/plain": [
              "<Figure size 432x288 with 1 Axes>"
            ],
            "image/png": "[encoded data removed]"
          },
          "metadata": {
            "needs_background": "light"
          }
        }
      ]
    },
    {
      "cell_type": "code",
      "source": [
        "# checking number of outliers\n",
        "outliers = df.loc[:, 'Pur_latest']\n",
        "outliers.max()-outliers.min()\n",
        "q1_outliers, q3_outliers = outliers.quantile((.25, .75))\n",
        "range_outliers = q3_outliers - q1_outliers\n",
        "iqr_outliers = iqr(outliers)\n",
        "lf_outliers = q1_outliers - 1.5 * iqr_outliers\n",
        "uf_outliers = q3_outliers + 1.5 * iqr_outliers\n",
        "outliers_data = outliers[((outliers< lf_outliers) | (outliers > uf_outliers))]\n",
        "n_outliers_data=len(outliers_data)\n",
        "outliers_data\n",
        "len(outliers_data)"
      ],
      "metadata": {
        "colab": {
          "base_uri": "https://localhost:8080/"
        },
        "id": "uAGIZxoZUvyx",
        "outputId": "7be1d017-ccf3-49d0-cf14-50ead06b3d3c"
      },
      "execution_count": null,
      "outputs": [
        {
          "output_type": "execute_result",
          "data": {
            "text/plain": [
              "86"
            ]
          },
          "metadata": {},
          "execution_count": 51
        }
      ]
    },
    {
      "cell_type": "code",
      "source": [
        "df.Pur_latest.isnull().sum()"
      ],
      "metadata": {
        "colab": {
          "base_uri": "https://localhost:8080/"
        },
        "id": "z_HxfjkAUvwZ",
        "outputId": "0d91bf43-bdb9-4c15-c78b-8d5a5a9af068"
      },
      "execution_count": null,
      "outputs": [
        {
          "output_type": "execute_result",
          "data": {
            "text/plain": [
              "0"
            ]
          },
          "metadata": {},
          "execution_count": 47
        }
      ]
    },
    {
      "cell_type": "code",
      "source": [
        "# outlier number is small (86) compared to total (3618) - we will remove the outliers\n",
        "df.Pur_latest.count()"
      ],
      "metadata": {
        "colab": {
          "base_uri": "https://localhost:8080/"
        },
        "id": "o7nWhDL7jSbG",
        "outputId": "4fb14d3c-bd51-433a-e40d-83ecebeeb8e8"
      },
      "execution_count": null,
      "outputs": [
        {
          "output_type": "execute_result",
          "data": {
            "text/plain": [
              "3618"
            ]
          },
          "metadata": {},
          "execution_count": 48
        }
      ]
    },
    {
      "cell_type": "code",
      "source": [
        "a = df['Pur_latest']\n",
        "\n",
        "print('Five Figure Summary\\n'\n",
        "f\"\"\"\n",
        "The minimum is {min(a)}\n",
        "The first quartile is {np.quantile(a,.25)}\n",
        "The median is {np.median(a)}\n",
        "The third quartile is {np.quantile(a,.75)}\n",
        "The maximum is {max(a)}\n",
        "The range is {max(a) - min(a)}\n",
        "The IQR is {iqr(a)}\n",
        "The lower fence is {np.quantile(a,.25) - 1.5 * iqr(a)}\n",
        "The upper fence is {np.quantile(a,.75) + 1.5 * iqr(a)}\n",
        "\"\"\")"
      ],
      "metadata": {
        "colab": {
          "base_uri": "https://localhost:8080/"
        },
        "id": "mWV3YpQFjSZZ",
        "outputId": "69753a42-8f43-41dd-9e95-2467d4f968c4"
      },
      "execution_count": null,
      "outputs": [
        {
          "output_type": "stream",
          "name": "stdout",
          "text": [
            "Five Figure Summary\n",
            "\n",
            "The minimum is 0.0\n",
            "The first quartile is 10.0\n",
            "The median is 15.0\n",
            "The third quartile is 20.0\n",
            "The maximum is 250.0\n",
            "The range is 250.0\n",
            "The IQR is 10.0\n",
            "The lower fence is -5.0\n",
            "The upper fence is 35.0\n",
            "\n"
          ]
        }
      ]
    },
    {
      "cell_type": "markdown",
      "source": [
        "-from the 5 figure summary... there are no ouliers under lower fence."
      ],
      "metadata": {
        "id": "QmEo7o4Xj0q4"
      }
    },
    {
      "cell_type": "code",
      "source": [
        "df[df['Pur_latest'] > 35]"
      ],
      "metadata": {
        "colab": {
          "base_uri": "https://localhost:8080/",
          "height": 488
        },
        "id": "umsalRy7jSXX",
        "outputId": "48787fa9-34b2-4ed4-c967-8d147e5a3bb2"
      },
      "execution_count": null,
      "outputs": [
        {
          "output_type": "execute_result",
          "data": {
            "text/plain": [
              "      Potential_Customer  Cust_Last_Purchase  Pur_3_years  Pur_5_years  \\\n",
              "50                     0                 NaN            3           23   \n",
              "64                     0                 NaN            2            2   \n",
              "103                    0                 NaN            1           11   \n",
              "104                    1                25.0            2            6   \n",
              "118                    0                 NaN            2            2   \n",
              "...                  ...                 ...          ...          ...   \n",
              "3277                   0                 NaN            2            6   \n",
              "3300                   1                42.0            4            7   \n",
              "3347                   0                 NaN            2            3   \n",
              "3354                   0                 NaN            2            2   \n",
              "3363                   1                 5.0            3           10   \n",
              "\n",
              "      Pur_3_years_Indirect  Pur_5_years_Indirect  Pur_latest  Pur_3_years_Avg  \\\n",
              "50                       2                    11        52.0            48.67   \n",
              "64                       2                     2        50.0            37.50   \n",
              "103                      0                     4        50.0            34.00   \n",
              "104                      2                     4        50.0            50.00   \n",
              "118                      2                     2        50.0            50.00   \n",
              "...                    ...                   ...         ...              ...   \n",
              "3277                     1                     3        50.0            35.00   \n",
              "3300                     2                     4        40.0            35.50   \n",
              "3347                     1                     2        40.0            32.50   \n",
              "3354                     1                     1        40.0            40.00   \n",
              "3363                     3                     6        36.0            33.00   \n",
              "\n",
              "      Pur_5_years_Avg  Pur_3_years_Avg_Indirect  ...  Ad_Res_5_Year  \\\n",
              "50              38.87                      49.5  ...            112   \n",
              "64              37.50                      37.5  ...             25   \n",
              "103             36.64                       NaN  ...             65   \n",
              "104             35.00                      50.0  ...             54   \n",
              "118             50.00                      50.0  ...             24   \n",
              "...               ...                       ...  ...            ...   \n",
              "3277            20.00                      50.0  ...             55   \n",
              "3300            30.29                      37.5  ...             54   \n",
              "3347            26.67                      25.0  ...             35   \n",
              "3354            40.00                      40.0  ...             26   \n",
              "3363            28.60                      33.0  ...             63   \n",
              "\n",
              "      Ad_Res_Ind_1_Year  Ad_Res_Ind_3_Year  Ad_Res_Ind_5_Year  Status_Cust  \\\n",
              "50                    6                 17                 33            S   \n",
              "64                    6                 13                 11            A   \n",
              "103                   6                  6                 25            A   \n",
              "104                   6                 16                 21            A   \n",
              "118                   6                 12                 10            O   \n",
              "...                 ...                ...                ...          ...   \n",
              "3277                  5                 13                 20            A   \n",
              "3300                  6                 17                 21            A   \n",
              "3347                  6                 17                 16            A   \n",
              "3354                  6                 13                 11            A   \n",
              "3363                  6                 17                 25            A   \n",
              "\n",
              "      Status_Latest_Ad   Age  Gender Cust_Prop  Cust_Ann_Income  \n",
              "50                   1   NaN       M         H          87767.0  \n",
              "64                   0  65.0       M         H          42613.0  \n",
              "103                  0  71.0       F         H          88668.0  \n",
              "104                  0  50.0       M         H          88668.0  \n",
              "118                  0  57.0       F         H          70339.0  \n",
              "...                ...   ...     ...       ...              ...  \n",
              "3277                 0   NaN       M         H          64945.0  \n",
              "3300                 0  87.0       M         H          76519.0  \n",
              "3347                 0  50.0       F         U              0.0  \n",
              "3354                 0  33.0       F         H         106850.0  \n",
              "3363                 1  75.0       F         U              0.0  \n",
              "\n",
              "[86 rows x 24 columns]"
            ],
            "text/html": [
              "\n",
              "  <div id=\"df-c7599324-1d3a-4284-bb36-e74399c20a30\">\n",
              "    <div class=\"colab-df-container\">\n",
              "      <div>\n",
              "<style scoped>\n",
              "    .dataframe tbody tr th:only-of-type {\n",
              "        vertical-align: middle;\n",
              "    }\n",
              "\n",
              "    .dataframe tbody tr th {\n",
              "        vertical-align: top;\n",
              "    }\n",
              "\n",
              "    .dataframe thead th {\n",
              "        text-align: right;\n",
              "    }\n",
              "</style>\n",
              "<table border=\"1\" class=\"dataframe\">\n",
              "  <thead>\n",
              "    <tr style=\"text-align: right;\">\n",
              "      <th></th>\n",
              "      <th>Potential_Customer</th>\n",
              "      <th>Cust_Last_Purchase</th>\n",
              "      <th>Pur_3_years</th>\n",
              "      <th>Pur_5_years</th>\n",
              "      <th>Pur_3_years_Indirect</th>\n",
              "      <th>Pur_5_years_Indirect</th>\n",
              "      <th>Pur_latest</th>\n",
              "      <th>Pur_3_years_Avg</th>\n",
              "      <th>Pur_5_years_Avg</th>\n",
              "      <th>Pur_3_years_Avg_Indirect</th>\n",
              "      <th>...</th>\n",
              "      <th>Ad_Res_5_Year</th>\n",
              "      <th>Ad_Res_Ind_1_Year</th>\n",
              "      <th>Ad_Res_Ind_3_Year</th>\n",
              "      <th>Ad_Res_Ind_5_Year</th>\n",
              "      <th>Status_Cust</th>\n",
              "      <th>Status_Latest_Ad</th>\n",
              "      <th>Age</th>\n",
              "      <th>Gender</th>\n",
              "      <th>Cust_Prop</th>\n",
              "      <th>Cust_Ann_Income</th>\n",
              "    </tr>\n",
              "  </thead>\n",
              "  <tbody>\n",
              "    <tr>\n",
              "      <th>50</th>\n",
              "      <td>0</td>\n",
              "      <td>NaN</td>\n",
              "      <td>3</td>\n",
              "      <td>23</td>\n",
              "      <td>2</td>\n",
              "      <td>11</td>\n",
              "      <td>52.0</td>\n",
              "      <td>48.67</td>\n",
              "      <td>38.87</td>\n",
              "      <td>49.5</td>\n",
              "      <td>...</td>\n",
              "      <td>112</td>\n",
              "      <td>6</td>\n",
              "      <td>17</td>\n",
              "      <td>33</td>\n",
              "      <td>S</td>\n",
              "      <td>1</td>\n",
              "      <td>NaN</td>\n",
              "      <td>M</td>\n",
              "      <td>H</td>\n",
              "      <td>87767.0</td>\n",
              "    </tr>\n",
              "    <tr>\n",
              "      <th>64</th>\n",
              "      <td>0</td>\n",
              "      <td>NaN</td>\n",
              "      <td>2</td>\n",
              "      <td>2</td>\n",
              "      <td>2</td>\n",
              "      <td>2</td>\n",
              "      <td>50.0</td>\n",
              "      <td>37.50</td>\n",
              "      <td>37.50</td>\n",
              "      <td>37.5</td>\n",
              "      <td>...</td>\n",
              "      <td>25</td>\n",
              "      <td>6</td>\n",
              "      <td>13</td>\n",
              "      <td>11</td>\n",
              "      <td>A</td>\n",
              "      <td>0</td>\n",
              "      <td>65.0</td>\n",
              "      <td>M</td>\n",
              "      <td>H</td>\n",
              "      <td>42613.0</td>\n",
              "    </tr>\n",
              "    <tr>\n",
              "      <th>103</th>\n",
              "      <td>0</td>\n",
              "      <td>NaN</td>\n",
              "      <td>1</td>\n",
              "      <td>11</td>\n",
              "      <td>0</td>\n",
              "      <td>4</td>\n",
              "      <td>50.0</td>\n",
              "      <td>34.00</td>\n",
              "      <td>36.64</td>\n",
              "      <td>NaN</td>\n",
              "      <td>...</td>\n",
              "      <td>65</td>\n",
              "      <td>6</td>\n",
              "      <td>6</td>\n",
              "      <td>25</td>\n",
              "      <td>A</td>\n",
              "      <td>0</td>\n",
              "      <td>71.0</td>\n",
              "      <td>F</td>\n",
              "      <td>H</td>\n",
              "      <td>88668.0</td>\n",
              "    </tr>\n",
              "    <tr>\n",
              "      <th>104</th>\n",
              "      <td>1</td>\n",
              "      <td>25.0</td>\n",
              "      <td>2</td>\n",
              "      <td>6</td>\n",
              "      <td>2</td>\n",
              "      <td>4</td>\n",
              "      <td>50.0</td>\n",
              "      <td>50.00</td>\n",
              "      <td>35.00</td>\n",
              "      <td>50.0</td>\n",
              "      <td>...</td>\n",
              "      <td>54</td>\n",
              "      <td>6</td>\n",
              "      <td>16</td>\n",
              "      <td>21</td>\n",
              "      <td>A</td>\n",
              "      <td>0</td>\n",
              "      <td>50.0</td>\n",
              "      <td>M</td>\n",
              "      <td>H</td>\n",
              "      <td>88668.0</td>\n",
              "    </tr>\n",
              "    <tr>\n",
              "      <th>118</th>\n",
              "      <td>0</td>\n",
              "      <td>NaN</td>\n",
              "      <td>2</td>\n",
              "      <td>2</td>\n",
              "      <td>2</td>\n",
              "      <td>2</td>\n",
              "      <td>50.0</td>\n",
              "      <td>50.00</td>\n",
              "      <td>50.00</td>\n",
              "      <td>50.0</td>\n",
              "      <td>...</td>\n",
              "      <td>24</td>\n",
              "      <td>6</td>\n",
              "      <td>12</td>\n",
              "      <td>10</td>\n",
              "      <td>O</td>\n",
              "      <td>0</td>\n",
              "      <td>57.0</td>\n",
              "      <td>F</td>\n",
              "      <td>H</td>\n",
              "      <td>70339.0</td>\n",
              "    </tr>\n",
              "    <tr>\n",
              "      <th>...</th>\n",
              "      <td>...</td>\n",
              "      <td>...</td>\n",
              "      <td>...</td>\n",
              "      <td>...</td>\n",
              "      <td>...</td>\n",
              "      <td>...</td>\n",
              "      <td>...</td>\n",
              "      <td>...</td>\n",
              "      <td>...</td>\n",
              "      <td>...</td>\n",
              "      <td>...</td>\n",
              "      <td>...</td>\n",
              "      <td>...</td>\n",
              "      <td>...</td>\n",
              "      <td>...</td>\n",
              "      <td>...</td>\n",
              "      <td>...</td>\n",
              "      <td>...</td>\n",
              "      <td>...</td>\n",
              "      <td>...</td>\n",
              "      <td>...</td>\n",
              "    </tr>\n",
              "    <tr>\n",
              "      <th>3277</th>\n",
              "      <td>0</td>\n",
              "      <td>NaN</td>\n",
              "      <td>2</td>\n",
              "      <td>6</td>\n",
              "      <td>1</td>\n",
              "      <td>3</td>\n",
              "      <td>50.0</td>\n",
              "      <td>35.00</td>\n",
              "      <td>20.00</td>\n",
              "      <td>50.0</td>\n",
              "      <td>...</td>\n",
              "      <td>55</td>\n",
              "      <td>5</td>\n",
              "      <td>13</td>\n",
              "      <td>20</td>\n",
              "      <td>A</td>\n",
              "      <td>0</td>\n",
              "      <td>NaN</td>\n",
              "      <td>M</td>\n",
              "      <td>H</td>\n",
              "      <td>64945.0</td>\n",
              "    </tr>\n",
              "    <tr>\n",
              "      <th>3300</th>\n",
              "      <td>1</td>\n",
              "      <td>42.0</td>\n",
              "      <td>4</td>\n",
              "      <td>7</td>\n",
              "      <td>2</td>\n",
              "      <td>4</td>\n",
              "      <td>40.0</td>\n",
              "      <td>35.50</td>\n",
              "      <td>30.29</td>\n",
              "      <td>37.5</td>\n",
              "      <td>...</td>\n",
              "      <td>54</td>\n",
              "      <td>6</td>\n",
              "      <td>17</td>\n",
              "      <td>21</td>\n",
              "      <td>A</td>\n",
              "      <td>0</td>\n",
              "      <td>87.0</td>\n",
              "      <td>M</td>\n",
              "      <td>H</td>\n",
              "      <td>76519.0</td>\n",
              "    </tr>\n",
              "    <tr>\n",
              "      <th>3347</th>\n",
              "      <td>0</td>\n",
              "      <td>NaN</td>\n",
              "      <td>2</td>\n",
              "      <td>3</td>\n",
              "      <td>1</td>\n",
              "      <td>2</td>\n",
              "      <td>40.0</td>\n",
              "      <td>32.50</td>\n",
              "      <td>26.67</td>\n",
              "      <td>25.0</td>\n",
              "      <td>...</td>\n",
              "      <td>35</td>\n",
              "      <td>6</td>\n",
              "      <td>17</td>\n",
              "      <td>16</td>\n",
              "      <td>A</td>\n",
              "      <td>0</td>\n",
              "      <td>50.0</td>\n",
              "      <td>F</td>\n",
              "      <td>U</td>\n",
              "      <td>0.0</td>\n",
              "    </tr>\n",
              "    <tr>\n",
              "      <th>3354</th>\n",
              "      <td>0</td>\n",
              "      <td>NaN</td>\n",
              "      <td>2</td>\n",
              "      <td>2</td>\n",
              "      <td>1</td>\n",
              "      <td>1</td>\n",
              "      <td>40.0</td>\n",
              "      <td>40.00</td>\n",
              "      <td>40.00</td>\n",
              "      <td>40.0</td>\n",
              "      <td>...</td>\n",
              "      <td>26</td>\n",
              "      <td>6</td>\n",
              "      <td>13</td>\n",
              "      <td>11</td>\n",
              "      <td>A</td>\n",
              "      <td>0</td>\n",
              "      <td>33.0</td>\n",
              "      <td>F</td>\n",
              "      <td>H</td>\n",
              "      <td>106850.0</td>\n",
              "    </tr>\n",
              "    <tr>\n",
              "      <th>3363</th>\n",
              "      <td>1</td>\n",
              "      <td>5.0</td>\n",
              "      <td>3</td>\n",
              "      <td>10</td>\n",
              "      <td>3</td>\n",
              "      <td>6</td>\n",
              "      <td>36.0</td>\n",
              "      <td>33.00</td>\n",
              "      <td>28.60</td>\n",
              "      <td>33.0</td>\n",
              "      <td>...</td>\n",
              "      <td>63</td>\n",
              "      <td>6</td>\n",
              "      <td>17</td>\n",
              "      <td>25</td>\n",
              "      <td>A</td>\n",
              "      <td>1</td>\n",
              "      <td>75.0</td>\n",
              "      <td>F</td>\n",
              "      <td>U</td>\n",
              "      <td>0.0</td>\n",
              "    </tr>\n",
              "  </tbody>\n",
              "</table>\n",
              "<p>86 rows × 24 columns</p>\n",
              "</div>\n",
              "      <button class=\"colab-df-convert\" onclick=\"convertToInteractive('df-c7599324-1d3a-4284-bb36-e74399c20a30')\"\n",
              "              title=\"Convert this dataframe to an interactive table.\"\n",
              "              style=\"display:none;\">\n",
              "        \n",
              "  <svg xmlns=\"http://www.w3.org/2000/svg\" height=\"24px\"viewBox=\"0 0 24 24\"\n",
              "       width=\"24px\">\n",
              "    <path d=\"M0 0h24v24H0V0z\" fill=\"none\"/>\n",
              "    <path d=\"M18.56 5.44l.94 2.06.94-2.06 2.06-.94-2.06-.94-.94-2.06-.94 2.06-2.06.94zm-11 1L8.5 8.5l.94-2.06 2.06-.94-2.06-.94L8.5 2.5l-.94 2.06-2.06.94zm10 10l.94 2.06.94-2.06 2.06-.94-2.06-.94-.94-2.06-.94 2.06-2.06.94z\"/><path d=\"M17.41 7.96l-1.37-1.37c-.4-.4-.92-.59-1.43-.59-.52 0-1.04.2-1.43.59L10.3 9.45l-7.72 7.72c-.78.78-.78 2.05 0 2.83L4 21.41c.39.39.9.59 1.41.59.51 0 1.02-.2 1.41-.59l7.78-7.78 2.81-2.81c.8-.78.8-2.07 0-2.86zM5.41 20L4 18.59l7.72-7.72 1.47 1.35L5.41 20z\"/>\n",
              "  </svg>\n",
              "      </button>\n",
              "      \n",
              "  <style>\n",
              "    .colab-df-container {\n",
              "      display:flex;\n",
              "      flex-wrap:wrap;\n",
              "      gap: 12px;\n",
              "    }\n",
              "\n",
              "    .colab-df-convert {\n",
              "      background-color: #E8F0FE;\n",
              "      border: none;\n",
              "      border-radius: 50%;\n",
              "      cursor: pointer;\n",
              "      display: none;\n",
              "      fill: #1967D2;\n",
              "      height: 32px;\n",
              "      padding: 0 0 0 0;\n",
              "      width: 32px;\n",
              "    }\n",
              "\n",
              "    .colab-df-convert:hover {\n",
              "      background-color: #E2EBFA;\n",
              "      box-shadow: 0px 1px 2px rgba(60, 64, 67, 0.3), 0px 1px 3px 1px rgba(60, 64, 67, 0.15);\n",
              "      fill: #174EA6;\n",
              "    }\n",
              "\n",
              "    [theme=dark] .colab-df-convert {\n",
              "      background-color: #3B4455;\n",
              "      fill: #D2E3FC;\n",
              "    }\n",
              "\n",
              "    [theme=dark] .colab-df-convert:hover {\n",
              "      background-color: #434B5C;\n",
              "      box-shadow: 0px 1px 3px 1px rgba(0, 0, 0, 0.15);\n",
              "      filter: drop-shadow(0px 1px 2px rgba(0, 0, 0, 0.3));\n",
              "      fill: #FFFFFF;\n",
              "    }\n",
              "  </style>\n",
              "\n",
              "      <script>\n",
              "        const buttonEl =\n",
              "          document.querySelector('#df-c7599324-1d3a-4284-bb36-e74399c20a30 button.colab-df-convert');\n",
              "        buttonEl.style.display =\n",
              "          google.colab.kernel.accessAllowed ? 'block' : 'none';\n",
              "\n",
              "        async function convertToInteractive(key) {\n",
              "          const element = document.querySelector('#df-c7599324-1d3a-4284-bb36-e74399c20a30');\n",
              "          const dataTable =\n",
              "            await google.colab.kernel.invokeFunction('convertToInteractive',\n",
              "                                                     [key], {});\n",
              "          if (!dataTable) return;\n",
              "\n",
              "          const docLinkHtml = 'Like what you see? Visit the ' +\n",
              "            '<a target=\"_blank\" href=https://colab.research.google.com/notebooks/data_table.ipynb>data table notebook</a>'\n",
              "            + ' to learn more about interactive tables.';\n",
              "          element.innerHTML = '';\n",
              "          dataTable['output_type'] = 'display_data';\n",
              "          await google.colab.output.renderOutput(dataTable, element);\n",
              "          const docLink = document.createElement('div');\n",
              "          docLink.innerHTML = docLinkHtml;\n",
              "          element.appendChild(docLink);\n",
              "        }\n",
              "      </script>\n",
              "    </div>\n",
              "  </div>\n",
              "  "
            ]
          },
          "metadata": {},
          "execution_count": 52
        }
      ]
    },
    {
      "cell_type": "code",
      "source": [
        "df.skew()"
      ],
      "metadata": {
        "colab": {
          "base_uri": "https://localhost:8080/"
        },
        "id": "ziIsGyaajSVN",
        "outputId": "8f588a12-3ff5-4dac-df86-a224b03eac47"
      },
      "execution_count": null,
      "outputs": [
        {
          "output_type": "execute_result",
          "data": {
            "text/plain": [
              "Potential_Customer          0.080807\n",
              "Cust_Last_Purchase          4.966810\n",
              "Pur_3_years                 1.291322\n",
              "Pur_5_years                 2.079296\n",
              "Pur_3_years_Indirect        1.124769\n",
              "Pur_5_years_Indirect        1.287071\n",
              "Pur_latest                  6.660116\n",
              "Pur_3_years_Avg             7.913836\n",
              "Pur_5_years_Avg             6.756579\n",
              "Pur_3_years_Avg_Indirect    8.043963\n",
              "InAct_Last                 -0.808274\n",
              "InAct_First                 0.136455\n",
              "Ad_Res_1_year               2.788479\n",
              "Ad_Res_3_Year               0.321259\n",
              "Ad_Res_5_Year               0.401333\n",
              "Ad_Res_Ind_1_Year           0.943712\n",
              "Ad_Res_Ind_3_Year          -0.448007\n",
              "Ad_Res_Ind_5_Year           0.068045\n",
              "Status_Latest_Ad           -0.276913\n",
              "Age                        -0.406354\n",
              "Cust_Ann_Income             0.039826\n",
              "dtype: float64"
            ]
          },
          "metadata": {},
          "execution_count": 53
        }
      ]
    },
    {
      "cell_type": "code",
      "source": [
        "df.kurtosis()"
      ],
      "metadata": {
        "colab": {
          "base_uri": "https://localhost:8080/"
        },
        "id": "HIqP4FDSjSTH",
        "outputId": "9d313d60-b1b4-441f-8d67-405ef0dc4c61"
      },
      "execution_count": null,
      "outputs": [
        {
          "output_type": "execute_result",
          "data": {
            "text/plain": [
              "Potential_Customer           -1.994573\n",
              "Cust_Last_Purchase           51.839743\n",
              "Pur_3_years                   2.115542\n",
              "Pur_5_years                   8.114353\n",
              "Pur_3_years_Indirect          1.375351\n",
              "Pur_5_years_Indirect          2.046352\n",
              "Pur_latest                  101.756152\n",
              "Pur_3_years_Avg             145.520014\n",
              "Pur_5_years_Avg             112.633657\n",
              "Pur_3_years_Avg_Indirect    159.364308\n",
              "InAct_Last                    2.506173\n",
              "InAct_First                  -1.171029\n",
              "Ad_Res_1_year                10.520905\n",
              "Ad_Res_3_Year                 2.171718\n",
              "Ad_Res_5_Year                 0.235607\n",
              "Ad_Res_Ind_1_Year             7.304920\n",
              "Ad_Res_Ind_3_Year            -0.898953\n",
              "Ad_Res_Ind_5_Year            -0.813542\n",
              "Status_Latest_Ad             -1.924383\n",
              "Age                          -0.441947\n",
              "Cust_Ann_Income               0.438975\n",
              "dtype: float64"
            ]
          },
          "metadata": {},
          "execution_count": 54
        }
      ]
    },
    {
      "cell_type": "code",
      "source": [
        "# qqplot before remove outliers\n",
        "fg = qqplot(df[\"Pur_latest\"], fit = True, line = '45')"
      ],
      "metadata": {
        "colab": {
          "base_uri": "https://localhost:8080/",
          "height": 279
        },
        "id": "ZSsTSV3cjSRD",
        "outputId": "2fe15941-653e-4f1f-d5e1-591a2924be7c"
      },
      "execution_count": null,
      "outputs": [
        {
          "output_type": "display_data",
          "data": {
            "text/plain": [
              "<Figure size 432x288 with 1 Axes>"
            ],
            "image/png": "[encoded data removed]"
          },
          "metadata": {
            "needs_background": "light"
          }
        }
      ]
    },
    {
      "cell_type": "code",
      "source": [
        "a= df['Pur_latest'] > 35\n",
        "a.value_counts()"
      ],
      "metadata": {
        "colab": {
          "base_uri": "https://localhost:8080/"
        },
        "id": "qRyA0pXWjSMa",
        "outputId": "66ec8070-b544-4b10-8a8a-a6f3d9ad8854"
      },
      "execution_count": null,
      "outputs": [
        {
          "output_type": "execute_result",
          "data": {
            "text/plain": [
              "False    3532\n",
              "True       86\n",
              "Name: Pur_latest, dtype: int64"
            ]
          },
          "metadata": {},
          "execution_count": 57
        }
      ]
    },
    {
      "cell_type": "code",
      "source": [
        "# remove outliers\n",
        "outliers_low=(df[\"Pur_latest\"]) < lf_outliers\n",
        "outliers_up=(df[\"Pur_latest\"]) > uf_outliers\n",
        "df[\"Pur_latest\"][~(outliers_low | outliers_up)]\n",
        "df= df [~(outliers_low | outliers_up)]\n",
        "a= df['Pur_latest'] > 35\n",
        "\n",
        "a.value_counts()\n"
      ],
      "metadata": {
        "colab": {
          "base_uri": "https://localhost:8080/"
        },
        "id": "PJizmlmnjSJ-",
        "outputId": "2ac28338-7ea9-4459-8a51-6a89feea8c06"
      },
      "execution_count": null,
      "outputs": [
        {
          "output_type": "execute_result",
          "data": {
            "text/plain": [
              "False    3532\n",
              "Name: Pur_latest, dtype: int64"
            ]
          },
          "metadata": {},
          "execution_count": 58
        }
      ]
    },
    {
      "cell_type": "code",
      "source": [
        "# qqplot after remove outliers\n",
        "fg = qqplot(df[\"Pur_latest\"], fit = True, line = '45')"
      ],
      "metadata": {
        "colab": {
          "base_uri": "https://localhost:8080/",
          "height": 279
        },
        "id": "TSbpKnprUvuZ",
        "outputId": "f2d2050b-6360-4558-cbc1-c366ce5a1c8a"
      },
      "execution_count": null,
      "outputs": [
        {
          "output_type": "display_data",
          "data": {
            "text/plain": [
              "<Figure size 432x288 with 1 Axes>"
            ],
            "image/png": "[encoded data removed]"
          },
          "metadata": {
            "needs_background": "light"
          }
        }
      ]
    },
    {
      "cell_type": "code",
      "source": [
        "sns.boxplot(df['Pur_latest'])"
      ],
      "metadata": {
        "colab": {
          "base_uri": "https://localhost:8080/",
          "height": 297
        },
        "id": "MWQYCDAdkjDt",
        "outputId": "5d7a28b7-3826-4fdd-d9ae-db0ff2916b9b"
      },
      "execution_count": null,
      "outputs": [
        {
          "output_type": "execute_result",
          "data": {
            "text/plain": [
              "<matplotlib.axes._subplots.AxesSubplot at 0x7efbda70a8d0>"
            ]
          },
          "metadata": {},
          "execution_count": 60
        },
        {
          "output_type": "display_data",
          "data": {
            "text/plain": [
              "<Figure size 432x288 with 1 Axes>"
            ],
            "image/png": "[encoded data removed]"
          },
          "metadata": {
            "needs_background": "light"
          }
        }
      ]
    },
    {
      "cell_type": "code",
      "source": [
        "sns.lmplot(x ='Ad_Res_Ind_3_Year' ,y = 'Pur_3_years_Indirect', hue='Potential_Customer',data = df)"
      ],
      "metadata": {
        "colab": {
          "base_uri": "https://localhost:8080/",
          "height": 386
        },
        "id": "c8MRN3OPki2v",
        "outputId": "2a94fc9d-2ddf-4da1-8f16-cdb99d90d2e0"
      },
      "execution_count": null,
      "outputs": [
        {
          "output_type": "execute_result",
          "data": {
            "text/plain": [
              "<seaborn.axisgrid.FacetGrid at 0x7efbda62c190>"
            ]
          },
          "metadata": {},
          "execution_count": 62
        },
        {
          "output_type": "display_data",
          "data": {
            "text/plain": [
              "<Figure size 465x360 with 1 Axes>"
            ],
            "image/png": "[encoded data removed]"
          },
          "metadata": {
            "needs_background": "light"
          }
        }
      ]
    },
    {
      "cell_type": "code",
      "source": [
        "sns.lineplot(x ='Ad_Res_Ind_3_Year' ,y = 'Status_Latest_Ad', hue='Potential_Customer',data = df)"
      ],
      "metadata": {
        "colab": {
          "base_uri": "https://localhost:8080/",
          "height": 297
        },
        "id": "Tk9-gWE6ki0k",
        "outputId": "8c21d03d-84a2-4d33-e688-07e3ab8f2129"
      },
      "execution_count": null,
      "outputs": [
        {
          "output_type": "execute_result",
          "data": {
            "text/plain": [
              "<matplotlib.axes._subplots.AxesSubplot at 0x7efbd7ad2f90>"
            ]
          },
          "metadata": {},
          "execution_count": 68
        },
        {
          "output_type": "display_data",
          "data": {
            "text/plain": [
              "<Figure size 432x288 with 1 Axes>"
            ],
            "image/png": "[encoded data removed]"
          },
          "metadata": {
            "needs_background": "light"
          }
        }
      ]
    },
    {
      "cell_type": "code",
      "source": [
        "sns.lmplot(x ='Ad_Res_Ind_3_Year' ,y = 'Pur_3_years', hue='Potential_Customer',data = df)"
      ],
      "metadata": {
        "colab": {
          "base_uri": "https://localhost:8080/",
          "height": 386
        },
        "id": "Vm9LXHApkxme",
        "outputId": "93a25e8d-a5f0-40fd-a717-93312cf1ff93"
      },
      "execution_count": null,
      "outputs": [
        {
          "output_type": "execute_result",
          "data": {
            "text/plain": [
              "<seaborn.axisgrid.FacetGrid at 0x7efbd7cd0950>"
            ]
          },
          "metadata": {},
          "execution_count": 64
        },
        {
          "output_type": "display_data",
          "data": {
            "text/plain": [
              "<Figure size 465x360 with 1 Axes>"
            ],
            "image/png": "[encoded data removed]"
          },
          "metadata": {
            "needs_background": "light"
          }
        }
      ]
    },
    {
      "cell_type": "code",
      "source": [
        "sns.lmplot(x ='Ad_Res_Ind_3_Year' ,y = 'Pur_3_years', hue='Potential_Customer',data = df)"
      ],
      "metadata": {
        "colab": {
          "base_uri": "https://localhost:8080/",
          "height": 386
        },
        "id": "Dyzv4G72kxkH",
        "outputId": "94ca1194-cc5a-4919-c267-6b999a7fe3aa"
      },
      "execution_count": null,
      "outputs": [
        {
          "output_type": "execute_result",
          "data": {
            "text/plain": [
              "<seaborn.axisgrid.FacetGrid at 0x7efbd7b39410>"
            ]
          },
          "metadata": {},
          "execution_count": 66
        },
        {
          "output_type": "display_data",
          "data": {
            "text/plain": [
              "<Figure size 465x360 with 1 Axes>"
            ],
            "image/png": "[encoded data removed]"
          },
          "metadata": {
            "needs_background": "light"
          }
        }
      ]
    },
    {
      "cell_type": "code",
      "source": [
        "sns.lmplot(x ='Ad_Res_Ind_5_Year' ,y = 'Pur_5_years', hue='Potential_Customer',data = df)"
      ],
      "metadata": {
        "colab": {
          "base_uri": "https://localhost:8080/",
          "height": 386
        },
        "id": "TTCWAls1kiya",
        "outputId": "70204985-4680-40eb-cbc9-13ccbf52c9e3"
      },
      "execution_count": null,
      "outputs": [
        {
          "output_type": "execute_result",
          "data": {
            "text/plain": [
              "<seaborn.axisgrid.FacetGrid at 0x7efbd7daa750>"
            ]
          },
          "metadata": {},
          "execution_count": 67
        },
        {
          "output_type": "display_data",
          "data": {
            "text/plain": [
              "<Figure size 465x360 with 1 Axes>"
            ],
            "image/png": "[encoded data removed]"
          },
          "metadata": {
            "needs_background": "light"
          }
        }
      ]
    },
    {
      "cell_type": "code",
      "source": [
        ""
      ],
      "metadata": {
        "id": "ZdCRvSSUk2xg"
      },
      "execution_count": null,
      "outputs": []
    }
  ]
}